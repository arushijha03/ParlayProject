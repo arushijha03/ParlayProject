{
  "nbformat": 4,
  "nbformat_minor": 0,
  "metadata": {
    "colab": {
      "provenance": []
    },
    "kernelspec": {
      "name": "python3",
      "display_name": "Python 3"
    },
    "language_info": {
      "name": "python"
    }
  },
  "cells": [
    {
      "cell_type": "code",
      "execution_count": null,
      "metadata": {
        "colab": {
          "base_uri": "https://localhost:8080/"
        },
        "id": "KwcFeeNWsvg3",
        "outputId": "cd644729-1b5a-4bb9-a0a5-13ee13170bed"
      },
      "outputs": [
        {
          "output_type": "stream",
          "name": "stdout",
          "text": [
            "✅ Cleaning complete! Saved as 'loan_details_cleaned.csv'.\n"
          ]
        },
        {
          "output_type": "stream",
          "name": "stderr",
          "text": [
            "/tmp/ipython-input-94363782.py:47: RuntimeWarning: coroutine 'Translator.translate' was never awaited\n",
            "  return text  # fallback to original if translation fails\n",
            "RuntimeWarning: Enable tracemalloc to get the object allocation traceback\n"
          ]
        }
      ],
      "source": [
        "import pandas as pd\n",
        "import numpy as np\n",
        "import json\n",
        "from googletrans import Translator  # pip install googletrans==4.0.0-rc1\n",
        "\n",
        "# 1. Load the dataset\n",
        "df = pd.read_csv(\"loan_details.csv\")\n",
        "\n",
        "# 2. Drop unnecessary columns\n",
        "df.drop(columns=[\"created_at\", \"updated_at\"], inplace=True, errors=\"ignore\")\n",
        "\n",
        "# 3. Fill missing values with NaN\n",
        "df.replace([\"\", \" \", \"null\", \"None\", None], np.nan, inplace=True)\n",
        "\n",
        "# 4. Convert boolean-like columns to 1/0\n",
        "bool_cols = [\n",
        "    \"is_providing_collateral\",\n",
        "    \"is_interested_in_refinancing_existing_debt\"\n",
        "]\n",
        "for col in bool_cols:\n",
        "    if col in df.columns:\n",
        "        df[col] = df[col].astype(str).str.lower().map({\n",
        "            'true': 1, 't': 1, 'yes': 1, '1': 1,\n",
        "            'false': 0, 'f': 0, 'no': 0, '0': 0\n",
        "        }).fillna(np.nan)\n",
        "\n",
        "# 5. Translate 'reason_for_acquisition' column to English\n",
        "# 5. Translate 'reason_for_acquisition' column to English (fixed version)\n",
        "if \"reason_for_acquisition\" in df.columns:\n",
        "    from googletrans import Translator\n",
        "    import asyncio\n",
        "\n",
        "    translator = Translator()\n",
        "\n",
        "    def translate_text(text):\n",
        "        if pd.isna(text):\n",
        "            return np.nan\n",
        "        try:\n",
        "            # if running inside async environment, run synchronously\n",
        "            loop = asyncio.get_event_loop()\n",
        "            if loop.is_running():\n",
        "                # fallback for async notebooks\n",
        "                return asyncio.run(translator.translate(str(text), dest='en')).text\n",
        "            else:\n",
        "                return translator.translate(str(text), dest='en').text\n",
        "        except Exception:\n",
        "            return text  # fallback to original if translation fails\n",
        "\n",
        "    df[\"reason_for_acquisition_en\"] = df[\"reason_for_acquisition\"].apply(translate_text)\n",
        "    df.drop(columns=[\"reason_for_acquisition\"], inplace=True)\n",
        "\n",
        "\n",
        "# 6. Expand JSON-like 'fund_uses' into separate columns\n",
        "if \"fund_uses\" in df.columns:\n",
        "    def parse_json_cell(cell):\n",
        "        if pd.isna(cell):\n",
        "            return {}\n",
        "        try:\n",
        "            parsed = json.loads(cell.replace(\"'\", '\"'))  # handle single quotes\n",
        "            if isinstance(parsed, dict):\n",
        "                return parsed\n",
        "            elif isinstance(parsed, list):\n",
        "                return {f\"use_{i+1}\": v for i, v in enumerate(parsed)}\n",
        "            else:\n",
        "                return {\"use_1\": parsed}\n",
        "        except Exception:\n",
        "            return {\"use_1\": cell}\n",
        "\n",
        "    fund_expanded = df[\"fund_uses\"].apply(parse_json_cell).apply(pd.Series)\n",
        "    fund_expanded.columns = [f\"fund_use_{i+1}\" for i in range(len(fund_expanded.columns))]\n",
        "    df = pd.concat([df.drop(columns=[\"fund_uses\"]), fund_expanded], axis=1)\n",
        "\n",
        "# 7. Save cleaned dataset\n",
        "df.to_csv(\"loan_details_cleaned.csv\", index=False)\n",
        "print(\"✅ Cleaning complete! Saved as 'loan_details_cleaned.csv'.\")\n"
      ]
    },
    {
      "cell_type": "code",
      "source": [
        "!pip install googletrans"
      ],
      "metadata": {
        "colab": {
          "base_uri": "https://localhost:8080/"
        },
        "id": "tXH_kudBtAhe",
        "outputId": "adb6076c-aeaf-457b-8dd1-ffffb896a74b"
      },
      "execution_count": null,
      "outputs": [
        {
          "output_type": "stream",
          "name": "stdout",
          "text": [
            "Collecting googletrans\n",
            "  Downloading googletrans-4.0.2-py3-none-any.whl.metadata (10 kB)\n",
            "Requirement already satisfied: httpx>=0.27.2 in /usr/local/lib/python3.12/dist-packages (from httpx[http2]>=0.27.2->googletrans) (0.28.1)\n",
            "Requirement already satisfied: anyio in /usr/local/lib/python3.12/dist-packages (from httpx>=0.27.2->httpx[http2]>=0.27.2->googletrans) (4.11.0)\n",
            "Requirement already satisfied: certifi in /usr/local/lib/python3.12/dist-packages (from httpx>=0.27.2->httpx[http2]>=0.27.2->googletrans) (2025.10.5)\n",
            "Requirement already satisfied: httpcore==1.* in /usr/local/lib/python3.12/dist-packages (from httpx>=0.27.2->httpx[http2]>=0.27.2->googletrans) (1.0.9)\n",
            "Requirement already satisfied: idna in /usr/local/lib/python3.12/dist-packages (from httpx>=0.27.2->httpx[http2]>=0.27.2->googletrans) (3.10)\n",
            "Requirement already satisfied: h11>=0.16 in /usr/local/lib/python3.12/dist-packages (from httpcore==1.*->httpx>=0.27.2->httpx[http2]>=0.27.2->googletrans) (0.16.0)\n",
            "Requirement already satisfied: h2<5,>=3 in /usr/local/lib/python3.12/dist-packages (from httpx[http2]>=0.27.2->googletrans) (4.3.0)\n",
            "Requirement already satisfied: hyperframe<7,>=6.1 in /usr/local/lib/python3.12/dist-packages (from h2<5,>=3->httpx[http2]>=0.27.2->googletrans) (6.1.0)\n",
            "Requirement already satisfied: hpack<5,>=4.1 in /usr/local/lib/python3.12/dist-packages (from h2<5,>=3->httpx[http2]>=0.27.2->googletrans) (4.1.0)\n",
            "Requirement already satisfied: sniffio>=1.1 in /usr/local/lib/python3.12/dist-packages (from anyio->httpx>=0.27.2->httpx[http2]>=0.27.2->googletrans) (1.3.1)\n",
            "Requirement already satisfied: typing_extensions>=4.5 in /usr/local/lib/python3.12/dist-packages (from anyio->httpx>=0.27.2->httpx[http2]>=0.27.2->googletrans) (4.15.0)\n",
            "Downloading googletrans-4.0.2-py3-none-any.whl (18 kB)\n",
            "Installing collected packages: googletrans\n",
            "Successfully installed googletrans-4.0.2\n"
          ]
        }
      ]
    },
    {
      "cell_type": "code",
      "source": [
        "import pandas as pd\n",
        "import numpy as np\n",
        "\n",
        "# Load your cleaned dataset\n",
        "df = pd.read_csv(\"loan_details_cleaned.csv\")\n",
        "\n",
        "# Columns containing 't'/'f' that need conversion\n",
        "bool_text_cols = [\"meta_status\", \"no_other_use_of_funds\"]\n",
        "\n",
        "# Convert textual booleans to numeric (1/0)\n",
        "for col in bool_text_cols:\n",
        "    if col in df.columns:\n",
        "        df[col] = df[col].astype(str).str.lower().map({\n",
        "            't': 1, 'true': 1, '1': 1, 'yes': 1,\n",
        "            'f': 0, 'false': 0, '0': 0, 'no': 0\n",
        "        }).fillna(np.nan)\n",
        "\n",
        "# Display summary to verify\n",
        "print(\"✅ Boolean text columns converted successfully!\\n\")\n",
        "print(\"Column types:\\n\", df[bool_text_cols].dtypes)\n",
        "print(\"\\nUnique values in each boolean column:\")\n",
        "for col in bool_text_cols:\n",
        "    print(f\"\\n{col}:\")\n",
        "    print(df[col].value_counts(dropna=False))\n",
        "\n",
        "# Preview first 10 rows to confirm\n",
        "print(\"\\nSample Preview:\")\n",
        "print(df.head(10)[bool_text_cols])\n"
      ],
      "metadata": {
        "colab": {
          "base_uri": "https://localhost:8080/"
        },
        "id": "ND-n7JxGtFhi",
        "outputId": "6059e23e-d447-46cb-a8e6-307a721db22d"
      },
      "execution_count": null,
      "outputs": [
        {
          "output_type": "stream",
          "name": "stdout",
          "text": [
            "✅ Boolean text columns converted successfully!\n",
            "\n",
            "Column types:\n",
            " meta_status              int64\n",
            "no_other_use_of_funds    int64\n",
            "dtype: object\n",
            "\n",
            "Unique values in each boolean column:\n",
            "\n",
            "meta_status:\n",
            "meta_status\n",
            "1    100\n",
            "Name: count, dtype: int64\n",
            "\n",
            "no_other_use_of_funds:\n",
            "no_other_use_of_funds\n",
            "0    100\n",
            "Name: count, dtype: int64\n",
            "\n",
            "Sample Preview:\n",
            "   meta_status  no_other_use_of_funds\n",
            "0            1                      0\n",
            "1            1                      0\n",
            "2            1                      0\n",
            "3            1                      0\n",
            "4            1                      0\n",
            "5            1                      0\n",
            "6            1                      0\n",
            "7            1                      0\n",
            "8            1                      0\n",
            "9            1                      0\n"
          ]
        }
      ]
    },
    {
      "cell_type": "code",
      "source": [
        "import pandas as pd\n",
        "import numpy as np\n",
        "\n",
        "# Load your dataset\n",
        "df = pd.read_csv(\"loan_details_cleaned.csv\")\n",
        "\n",
        "# --- Step 2: Replace all empty strings and \"null\" with real NaN ---\n",
        "df = df.replace([\"\", \" \", \"null\", \"none\", \"None\"], np.nan)\n",
        "\n",
        "# --- Step 3: Show which columns still have missing values ---\n",
        "print(\"🔍 Columns with missing values:\\n\")\n",
        "print(df.isna().sum()[df.isna().sum() > 0])\n",
        "\n",
        "# --- Step 4: Preview how NaNs appear in Python ---\n",
        "print(\"\\nSample Preview (first 10 rows):\\n\")\n",
        "print(df.head(10))\n",
        "\n",
        "# --- Step 5 (Optional): To SEE 'NaN' text in CSV output when saving ---\n",
        "# df.to_csv(\"loan_details_final_cleaned.csv\", index=False, na_rep=\"NaN\")\n"
      ],
      "metadata": {
        "colab": {
          "base_uri": "https://localhost:8080/"
        },
        "id": "kVVYYU1hzeH7",
        "outputId": "4adbda8a-6e6c-4946-b907-8c689204922f"
      },
      "execution_count": null,
      "outputs": [
        {
          "output_type": "stream",
          "name": "stdout",
          "text": [
            "🔍 Columns with missing values:\n",
            "\n",
            "business_purchase_price      78\n",
            "type_of_acquisition          78\n",
            "reason_for_acquisition_en    78\n",
            "fund_use_3                   14\n",
            "fund_use_4                   34\n",
            "fund_use_5                   50\n",
            "fund_use_6                   64\n",
            "fund_use_7                   85\n",
            "dtype: int64\n",
            "\n",
            "Sample Preview (first 10 rows):\n",
            "\n",
            "                             inquiry_id                user_id  \\\n",
            "0  4c534a15-b817-43d6-bc8c-38bf8a22c530  towkl9vocs1dleat51fzg   \n",
            "1  9db9ac13-2075-44b7-b0db-376a3c43a5f2  2ia6nio2nmkzd6z2ccpzy   \n",
            "2  b795682e-d22f-4f81-ae08-d465d2b3e647  vcjer8l1shrc4n0myngix   \n",
            "3  6d31141e-a3ef-4067-a672-535d8d32466d  8c303314xvnwguwmnbf3p   \n",
            "4  ee406cbf-a250-4b75-85af-2e684fb8409a  sufpjdsgo7pphbcban7sh   \n",
            "5  06ce7d90-bb7e-498f-baf6-b6114984b6a4  fx9whmtj44cp2hhhkvjw3   \n",
            "6  8259c7ac-cc7d-42a0-b5ed-c3170439775d  xkpopv6sqnf5y8cpj7stz   \n",
            "7  99748d53-44b4-46fb-a121-d1c222bd5a9e  0w3pf7elayi5hfoz08dx7   \n",
            "8  2c084d96-eeba-404e-bdbd-0dc7aeaaaf5a  1uss525k9bb7zyxjzxe9a   \n",
            "9  f4a1ddb1-29c2-4d19-8f5f-628a4e0b56ed  43850dwttwwd6oj3pzyrf   \n",
            "\n",
            "                        organization_id                                    id  \\\n",
            "0  d81dc152-c9d3-048b-1572-1f0c4594bf92  1d1a9337-77ec-4b4a-9c1c-dda92fcf7d80   \n",
            "1  d81dc152-c9d3-048b-1572-1f0c4594bf92  399205ed-c8c6-4d3f-a922-a6e765005677   \n",
            "2  d81dc152-c9d3-048b-1572-1f0c4594bf92  ed97366b-c412-4d0e-a95c-2d279f0ca795   \n",
            "3  d81dc152-c9d3-048b-1572-1f0c4594bf92  92bc0802-15f9-4e5a-b4a7-0befdd4c11b8   \n",
            "4  d81dc152-c9d3-048b-1572-1f0c4594bf92  0c5fa21c-ea1f-46cf-9b92-f5c9f7bfc14d   \n",
            "5  d81dc152-c9d3-048b-1572-1f0c4594bf92  93fb5630-ba7d-403c-ad05-f7f1bef3cecb   \n",
            "6  d81dc152-c9d3-048b-1572-1f0c4594bf92  47f0e72e-ac86-4709-981c-e20a1cd1a6f7   \n",
            "7  d81dc152-c9d3-048b-1572-1f0c4594bf92  3391be73-ddfc-417a-950c-4b6934faddb9   \n",
            "8  d81dc152-c9d3-048b-1572-1f0c4594bf92  cfa008a0-71c1-49d4-8bb5-7aa2800366e5   \n",
            "9  d81dc152-c9d3-048b-1572-1f0c4594bf92  905e3143-43cb-4d43-81a0-096d6e1e0808   \n",
            "\n",
            "  meta_status no_other_use_of_funds  equity_injection  \\\n",
            "0           t                     f          15072901   \n",
            "1           t                     f           4598676   \n",
            "2           t                     f          13469521   \n",
            "3           t                     f           2449088   \n",
            "4           t                     f           1118094   \n",
            "5           t                     f           8604774   \n",
            "6           t                     f          19588928   \n",
            "7           t                     f           3255191   \n",
            "8           t                     f            187469   \n",
            "9           t                     f           6607387   \n",
            "\n",
            "   business_purchase_price  is_providing_collateral  \\\n",
            "0                      NaN                        0   \n",
            "1                5759660.0                        0   \n",
            "2                      NaN                        0   \n",
            "3                3170747.0                        0   \n",
            "4                      NaN                        0   \n",
            "5                      NaN                        1   \n",
            "6                      NaN                        1   \n",
            "7                      NaN                        0   \n",
            "8                      NaN                        1   \n",
            "9                      NaN                        0   \n",
            "\n",
            "   is_interested_in_refinancing_existing_debt type_of_acquisition  \\\n",
            "0                                           0                 NaN   \n",
            "1                                           0             notSure   \n",
            "2                                           1                 NaN   \n",
            "3                                           1             notSure   \n",
            "4                                           0                 NaN   \n",
            "5                                           1                 NaN   \n",
            "6                                           1                 NaN   \n",
            "7                                           0                 NaN   \n",
            "8                                           1                 NaN   \n",
            "9                                           0                 NaN   \n",
            "\n",
            "                           reason_for_acquisition_en  \\\n",
            "0                                                NaN   \n",
            "1  Uter coerceo adopto magni cornu templum corrig...   \n",
            "2                                                NaN   \n",
            "3  Dolore vitiosus temperantia ars talus aqua pec...   \n",
            "4                                                NaN   \n",
            "5                                                NaN   \n",
            "6                                                NaN   \n",
            "7                                                NaN   \n",
            "8                                                NaN   \n",
            "9                                                NaN   \n",
            "\n",
            "                                          fund_use_1  \\\n",
            "0  {'id': 'd017b408-cbd2-4c87-a84b-117d70368614',...   \n",
            "1  {'id': 'a106a699-72b8-4ccd-a36a-631e3bd822c6',...   \n",
            "2  {'id': 'cffae8a9-c88a-4312-9f51-6913d3ea80f4',...   \n",
            "3  {'id': '38772f25-4bad-4c29-91c2-18c300cc017a',...   \n",
            "4  {'id': '0ee2b7a0-6c77-492a-8fbd-984c3baa1927',...   \n",
            "5  {'id': 'c960bf6b-f3b1-4c26-851d-e0509d0c5004',...   \n",
            "6  {'id': 'c8693009-d85b-49dc-9f8b-96da766bac3a',...   \n",
            "7  {'id': '16e5ef4f-b155-422c-ba28-539706cc1edc',...   \n",
            "8  {'id': '74cadce9-ee1d-46f9-8903-bc2f112befab',...   \n",
            "9  {'id': '4281eb1b-6fd8-49a3-869a-e61476063557',...   \n",
            "\n",
            "                                          fund_use_2  \\\n",
            "0  {'id': 'b95ff501-af26-480e-81e5-0a3d9f9ded40',...   \n",
            "1  {'id': '26401168-9cd4-4bb1-bc57-c0bd14e09397',...   \n",
            "2  {'id': '105ff5c5-38a9-4008-90e5-3413d150ad0e',...   \n",
            "3  {'id': '6d509d56-a7cb-4974-bf1d-e06139fb4f68',...   \n",
            "4  {'id': 'cf7bcc7d-dc47-4db0-a517-2eb41a15e435',...   \n",
            "5  {'id': '649f3b3d-4645-4c41-a916-3cde1c84654a',...   \n",
            "6  {'id': '7d6e6319-de99-4555-b5a6-be5b4a4ca124',...   \n",
            "7  {'id': '1be3d4b2-31cc-4a4f-a6b2-49b5bcccf2c8',...   \n",
            "8  {'id': '93799708-4311-4b35-af81-0a55f4d6339a',...   \n",
            "9  {'id': 'dc2e817f-3315-44ea-b87c-41a475bcdb5e',...   \n",
            "\n",
            "                                          fund_use_3  \\\n",
            "0  {'id': '3f657c40-28da-4c60-984e-39c94da72ee0',...   \n",
            "1  {'id': '299776e3-cfb5-4479-b6bc-cfea75477d5a',...   \n",
            "2  {'id': '12c6bb3b-ca39-4310-a3b5-45931afe93ed',...   \n",
            "3  {'id': '8a1464f9-0c49-4982-bbc5-de55abccb3cc',...   \n",
            "4  {'id': '88c4cbb5-99e1-4e7f-a01f-31cd3286ca79',...   \n",
            "5  {'id': '00fe1c84-accd-4471-8768-0fe08cf6a8f7',...   \n",
            "6  {'id': '19809e5d-ee1c-483b-bf65-8abf40b6b8b3',...   \n",
            "7  {'id': '66afb72f-113a-4634-9705-2b97fd835310',...   \n",
            "8  {'id': '92ebaffa-4eb1-4b90-be5f-817d30eed290',...   \n",
            "9  {'id': 'b0bd1ddd-abb9-4a44-b2d2-d8dba6626d32',...   \n",
            "\n",
            "                                          fund_use_4  \\\n",
            "0  {'id': 'f83c62aa-1d23-4e11-a302-e8ef75356cb8',...   \n",
            "1                                                NaN   \n",
            "2  {'id': 'c5d8ed57-d3c0-48a4-b6ad-54c62675a2c2',...   \n",
            "3  {'id': '848bcd3f-cf7b-4288-b3f3-1ed0ac9facfe',...   \n",
            "4                                                NaN   \n",
            "5  {'id': 'ebb3d824-c5b3-41dd-af7e-3c8b3ed8989f',...   \n",
            "6  {'id': '19fb075d-31dd-4f83-80c9-a6944853a314',...   \n",
            "7  {'id': '3aa83e34-e2f5-4098-91ef-f07e63d5a89f',...   \n",
            "8  {'id': 'c72f2bb1-9315-4b2c-a02c-7ba561df629a',...   \n",
            "9                                                NaN   \n",
            "\n",
            "                                          fund_use_5  \\\n",
            "0  {'id': '86b5d8d7-1dd1-4b76-b33e-79e792b8a287',...   \n",
            "1                                                NaN   \n",
            "2  {'id': 'abe09b55-11e3-4f0c-a79a-35d356996fc8',...   \n",
            "3  {'id': '266242fc-401b-4694-84d3-af7aa8e2a035',...   \n",
            "4                                                NaN   \n",
            "5                                                NaN   \n",
            "6  {'id': '46265126-36e3-4729-a319-ff8094349f13',...   \n",
            "7  {'id': '340f6e8b-5ca4-4c6f-af5b-6068e2c45bc7',...   \n",
            "8  {'id': '33cfc311-42f4-4a0f-8b37-e46f41def174',...   \n",
            "9                                                NaN   \n",
            "\n",
            "                                          fund_use_6  \\\n",
            "0  {'id': '07abf701-66c2-4751-b126-7dfb58186761',...   \n",
            "1                                                NaN   \n",
            "2                                                NaN   \n",
            "3  {'id': '788f3962-c937-4767-9a0e-3a0cc6d8fbea',...   \n",
            "4                                                NaN   \n",
            "5                                                NaN   \n",
            "6  {'id': '56d6f969-d50e-47a2-a90c-11ea5551491c',...   \n",
            "7                                                NaN   \n",
            "8                                                NaN   \n",
            "9                                                NaN   \n",
            "\n",
            "                                          fund_use_7  \n",
            "0  {'id': 'f3d0b656-0e23-4d17-b84b-1b66549136d3',...  \n",
            "1                                                NaN  \n",
            "2                                                NaN  \n",
            "3  {'id': '88a9b234-7f65-477f-a56c-f566d144c26c',...  \n",
            "4                                                NaN  \n",
            "5                                                NaN  \n",
            "6                                                NaN  \n",
            "7                                                NaN  \n",
            "8                                                NaN  \n",
            "9                                                NaN  \n"
          ]
        }
      ]
    },
    {
      "cell_type": "code",
      "source": [
        "import pandas as pd\n",
        "import numpy as np\n",
        "import json\n",
        "\n",
        "# --- Step 1: Load datasets ---\n",
        "loans_df = pd.read_csv(\"loan_details_cleaned.csv\")\n",
        "\n",
        "# Identify fund_use columns\n",
        "fund_cols = [c for c in loans_df.columns if c.startswith(\"fund_use_\")]\n",
        "\n",
        "# --- Step 2: Extract JSONs into separate fund_uses DataFrame ---\n",
        "fund_records = []\n",
        "for _, row in loans_df.iterrows():\n",
        "    inquiry_id = row.get(\"inquiry_id\")\n",
        "    for idx, col in enumerate(fund_cols, start=1):\n",
        "        cell = row[col]\n",
        "        if pd.notna(cell):\n",
        "            try:\n",
        "                data = json.loads(str(cell).replace(\"'\", '\"'))\n",
        "                if isinstance(data, dict):\n",
        "                    fund_records.append({\n",
        "                        \"inquiry_id\": inquiry_id,\n",
        "                        \"fund_use_index\": idx,\n",
        "                        \"fund_use_name\": data.get(\"name\"),\n",
        "                        \"fund_use_amount\": float(data.get(\"amount\", 0))\n",
        "                    })\n",
        "            except Exception:\n",
        "                pass\n",
        "\n",
        "fund_df = pd.DataFrame(fund_records)\n",
        "fund_df = fund_df.sort_values(by=[\"inquiry_id\", \"fund_use_index\"]).reset_index(drop=True)\n",
        "\n",
        "print(\"✅ Created `fund_uses` DataFrame\")\n",
        "print(f\"Total records: {len(fund_df)}\")\n",
        "print(f\"Unique inquiry_ids: {fund_df['inquiry_id'].nunique()}\")\n",
        "print(\"\\nSample of extracted fund uses:\\n\", fund_df.head(10))\n",
        "\n",
        "# --- Step 3: Aggregate (summarize) fund uses per inquiry ---\n",
        "fund_summary = (\n",
        "    fund_df.groupby(\"inquiry_id\", as_index=False)\n",
        "    .agg(\n",
        "        total_fund_amount=(\"fund_use_amount\", \"sum\"),\n",
        "        fund_use_count=(\"fund_use_name\", \"count\"),\n",
        "        fund_use_list=(\"fund_use_name\", lambda x: list(x))\n",
        "    )\n",
        ")\n",
        "\n",
        "print(\"\\n✅ Fund use summary created:\")\n",
        "print(fund_summary.head(10))\n",
        "\n",
        "# --- Step 4: Merge the summary back into main loan dataset ---\n",
        "merged_df = loans_df.merge(fund_summary, on=\"inquiry_id\", how=\"left\")\n",
        "\n",
        "print(\"\\n✅ Merged DataFrame (loan-level summary):\")\n",
        "print(merged_df[[\"inquiry_id\", \"total_fund_amount\", \"fund_use_count\", \"fund_use_list\"]].head(10))\n",
        "\n",
        "# --- Step 5: Optionally save both ---\n",
        "# fund_df.to_csv(\"fund_uses.csv\", index=False)\n",
        "# merged_df.to_csv(\"loan_details_final.csv\", index=False)\n",
        "\n",
        "print(\"\\nAll steps completed successfully!\")\n"
      ],
      "metadata": {
        "colab": {
          "base_uri": "https://localhost:8080/"
        },
        "id": "SmXbKC8d3b6A",
        "outputId": "88f7d7ca-f5b2-470b-a21f-8720a6f100a6"
      },
      "execution_count": null,
      "outputs": [
        {
          "output_type": "stream",
          "name": "stdout",
          "text": [
            "✅ Created `fund_uses` DataFrame\n",
            "Total records: 453\n",
            "Unique inquiry_ids: 100\n",
            "\n",
            "Sample of extracted fund uses:\n",
            "                              inquiry_id  fund_use_index  \\\n",
            "0  03ca4a21-eb4f-482f-89d8-4c7e962574eb               1   \n",
            "1  03ca4a21-eb4f-482f-89d8-4c7e962574eb               2   \n",
            "2  03ca4a21-eb4f-482f-89d8-4c7e962574eb               3   \n",
            "3  03ca4a21-eb4f-482f-89d8-4c7e962574eb               4   \n",
            "4  03ca4a21-eb4f-482f-89d8-4c7e962574eb               5   \n",
            "5  03ca4a21-eb4f-482f-89d8-4c7e962574eb               6   \n",
            "6  03ca4a21-eb4f-482f-89d8-4c7e962574eb               7   \n",
            "7  03ee3970-30b4-4e74-92c5-96511c45e5a9               1   \n",
            "8  03ee3970-30b4-4e74-92c5-96511c45e5a9               2   \n",
            "9  03ee3970-30b4-4e74-92c5-96511c45e5a9               3   \n",
            "\n",
            "              fund_use_name  fund_use_amount  \n",
            "0        Equipment Purchase       11802614.0  \n",
            "1        Technology Upgrade        2459909.0  \n",
            "2  Research and Development        1120798.0  \n",
            "3              Staff Hiring        8427083.0  \n",
            "4           Working Capital         503401.0  \n",
            "5          Office Expansion        1354821.0  \n",
            "6                 Marketing       36679148.0  \n",
            "7        Equipment Purchase        1975341.0  \n",
            "8              Staff Hiring        5061852.0  \n",
            "9                 Inventory        1623317.0  \n",
            "\n",
            "✅ Fund use summary created:\n",
            "                             inquiry_id  total_fund_amount  fund_use_count  \\\n",
            "0  03ca4a21-eb4f-482f-89d8-4c7e962574eb         62347774.0               7   \n",
            "1  03ee3970-30b4-4e74-92c5-96511c45e5a9         29729893.0               4   \n",
            "2  06ce7d90-bb7e-498f-baf6-b6114984b6a4         34109423.0               4   \n",
            "3  08f4d499-fd01-4ff1-ae03-76e7740aac88         35809559.0               3   \n",
            "4  16bc533e-742f-45a2-a316-f9d03c4fc4a5         96262396.0               6   \n",
            "5  18a5d7f2-0cc0-4296-af43-b72ad6170a83          6125662.0               6   \n",
            "6  1b851d5d-06e6-4f7a-b822-a35c307ef3c9         55094000.0               2   \n",
            "7  1ca1b2be-b922-4797-8545-758947a82d2f         42914904.0               2   \n",
            "8  1d98536e-0167-4605-b27e-cc583c509bb4         94799162.0               5   \n",
            "9  28166dcf-772f-4002-b006-42abf2cdc92a         62633784.0               2   \n",
            "\n",
            "                                       fund_use_list  \n",
            "0  [Equipment Purchase, Technology Upgrade, Resea...  \n",
            "1  [Equipment Purchase, Staff Hiring, Inventory, ...  \n",
            "2  [Working Capital, Research and Development, Eq...  \n",
            "3  [Technology Upgrade, Marketing, Office Expansion]  \n",
            "4  [Research and Development, Office Expansion, W...  \n",
            "5  [Inventory, Equipment Purchase, Staff Hiring, ...  \n",
            "6                       [Working Capital, Marketing]  \n",
            "7                    [Inventory, Equipment Purchase]  \n",
            "8  [Working Capital, Equipment Purchase, Research...  \n",
            "9                          [Inventory, Staff Hiring]  \n",
            "\n",
            "✅ Merged DataFrame (loan-level summary):\n",
            "                             inquiry_id  total_fund_amount  fund_use_count  \\\n",
            "0  4c534a15-b817-43d6-bc8c-38bf8a22c530         66322923.0               7   \n",
            "1  9db9ac13-2075-44b7-b0db-376a3c43a5f2         36284381.0               3   \n",
            "2  b795682e-d22f-4f81-ae08-d465d2b3e647         77739988.0               5   \n",
            "3  6d31141e-a3ef-4067-a672-535d8d32466d         11737217.0               7   \n",
            "4  ee406cbf-a250-4b75-85af-2e684fb8409a          5487598.0               3   \n",
            "5  06ce7d90-bb7e-498f-baf6-b6114984b6a4         34109423.0               4   \n",
            "6  8259c7ac-cc7d-42a0-b5ed-c3170439775d         71219536.0               6   \n",
            "7  99748d53-44b4-46fb-a121-d1c222bd5a9e         30187719.0               5   \n",
            "8  2c084d96-eeba-404e-bdbd-0dc7aeaaaf5a          1288870.0               5   \n",
            "9  f4a1ddb1-29c2-4d19-8f5f-628a4e0b56ed         36031690.0               3   \n",
            "\n",
            "                                       fund_use_list  \n",
            "0  [Research and Development, Office Expansion, M...  \n",
            "1  [Research and Development, Office Expansion, M...  \n",
            "2  [Research and Development, Inventory, Technolo...  \n",
            "3  [Working Capital, Research and Development, Eq...  \n",
            "4  [Marketing, Office Expansion, Technology Upgrade]  \n",
            "5  [Working Capital, Research and Development, Eq...  \n",
            "6  [Research and Development, Staff Hiring, Worki...  \n",
            "7  [Staff Hiring, Research and Development, Worki...  \n",
            "8  [Research and Development, Technology Upgrade,...  \n",
            "9           [Office Expansion, Marketing, Inventory]  \n",
            "\n",
            "All steps completed successfully!\n"
          ]
        }
      ]
    },
    {
      "cell_type": "code",
      "source": [
        "import pandas as pd\n",
        "import numpy as np\n",
        "import json\n",
        "\n",
        "# --- Step 1: Load datasets ---\n",
        "loans_df = pd.read_csv(\"loan_details_cleaned.csv\")\n",
        "\n",
        "# Identify fund_use columns\n",
        "fund_cols = [c for c in loans_df.columns if c.startswith(\"fund_use_\")]\n",
        "\n",
        "# --- Step 2: Extract JSONs into separate fund_uses DataFrame ---\n",
        "fund_records = []\n",
        "for _, row in loans_df.iterrows():\n",
        "    inquiry_id = row.get(\"inquiry_id\")\n",
        "    for idx, col in enumerate(fund_cols, start=1):\n",
        "        cell = row[col]\n",
        "        if pd.notna(cell):\n",
        "            try:\n",
        "                data = json.loads(str(cell).replace(\"'\", '\"'))\n",
        "                if isinstance(data, dict):\n",
        "                    fund_records.append({\n",
        "                        \"inquiry_id\": inquiry_id,\n",
        "                        \"fund_use_index\": idx,\n",
        "                        \"fund_use_name\": data.get(\"name\"),\n",
        "                        \"fund_use_amount\": float(data.get(\"amount\", 0))\n",
        "                    })\n",
        "            except Exception:\n",
        "                pass\n",
        "\n",
        "fund_df = pd.DataFrame(fund_records)\n",
        "fund_df = fund_df.sort_values(by=[\"inquiry_id\", \"fund_use_index\"]).reset_index(drop=True)\n",
        "\n",
        "print(\"✅ Created `fund_uses` DataFrame\")\n",
        "print(f\"Total records: {len(fund_df)}\")\n",
        "print(f\"Unique inquiry_ids: {fund_df['inquiry_id'].nunique()}\")\n",
        "print(\"\\nSample of extracted fund uses:\\n\", fund_df.head(10))\n",
        "\n",
        "# --- Step 3: Aggregate (summarize) fund uses per inquiry ---\n",
        "fund_summary = (\n",
        "    fund_df.groupby(\"inquiry_id\", as_index=False)\n",
        "    .agg(\n",
        "        total_fund_amount=(\"fund_use_amount\", \"sum\"),\n",
        "        fund_use_count=(\"fund_use_name\", \"count\"),\n",
        "        fund_use_list=(\"fund_use_name\", lambda x: list(x))\n",
        "    )\n",
        ")\n",
        "\n",
        "print(\"\\n✅ Fund use summary created:\")\n",
        "print(fund_summary.head(10))\n",
        "\n",
        "# --- Step 4: Merge the summary back into main loan dataset ---\n",
        "merged_df = loans_df.merge(fund_summary, on=\"inquiry_id\", how=\"left\")\n",
        "\n",
        "print(\"\\n✅ Merged DataFrame (loan-level summary):\")\n",
        "print(merged_df[[\"inquiry_id\", \"total_fund_amount\", \"fund_use_count\", \"fund_use_list\"]].head(10))\n",
        "\n",
        "# --- Step 5: Optionally save both ---\n",
        "# fund_df.to_csv(\"fund_uses.csv\", index=False)\n",
        "# merged_df.to_csv(\"loan_details_final.csv\", index=False)\n",
        "\n",
        "print(\"\\nAll steps completed successfully!\")"
      ],
      "metadata": {
        "colab": {
          "base_uri": "https://localhost:8080/"
        },
        "id": "Cv4Vy0Z73dMk",
        "outputId": "49c6fb52-69a3-48eb-8f67-766c6acfcf13"
      },
      "execution_count": null,
      "outputs": [
        {
          "output_type": "stream",
          "name": "stdout",
          "text": [
            "✅ Created `fund_uses` DataFrame\n",
            "Total records: 453\n",
            "Unique inquiry_ids: 100\n",
            "\n",
            "Sample of extracted fund uses:\n",
            "                              inquiry_id  fund_use_index  \\\n",
            "0  03ca4a21-eb4f-482f-89d8-4c7e962574eb               1   \n",
            "1  03ca4a21-eb4f-482f-89d8-4c7e962574eb               2   \n",
            "2  03ca4a21-eb4f-482f-89d8-4c7e962574eb               3   \n",
            "3  03ca4a21-eb4f-482f-89d8-4c7e962574eb               4   \n",
            "4  03ca4a21-eb4f-482f-89d8-4c7e962574eb               5   \n",
            "5  03ca4a21-eb4f-482f-89d8-4c7e962574eb               6   \n",
            "6  03ca4a21-eb4f-482f-89d8-4c7e962574eb               7   \n",
            "7  03ee3970-30b4-4e74-92c5-96511c45e5a9               1   \n",
            "8  03ee3970-30b4-4e74-92c5-96511c45e5a9               2   \n",
            "9  03ee3970-30b4-4e74-92c5-96511c45e5a9               3   \n",
            "\n",
            "              fund_use_name  fund_use_amount  \n",
            "0        Equipment Purchase       11802614.0  \n",
            "1        Technology Upgrade        2459909.0  \n",
            "2  Research and Development        1120798.0  \n",
            "3              Staff Hiring        8427083.0  \n",
            "4           Working Capital         503401.0  \n",
            "5          Office Expansion        1354821.0  \n",
            "6                 Marketing       36679148.0  \n",
            "7        Equipment Purchase        1975341.0  \n",
            "8              Staff Hiring        5061852.0  \n",
            "9                 Inventory        1623317.0  \n",
            "\n",
            "✅ Fund use summary created:\n",
            "                             inquiry_id  total_fund_amount  fund_use_count  \\\n",
            "0  03ca4a21-eb4f-482f-89d8-4c7e962574eb         62347774.0               7   \n",
            "1  03ee3970-30b4-4e74-92c5-96511c45e5a9         29729893.0               4   \n",
            "2  06ce7d90-bb7e-498f-baf6-b6114984b6a4         34109423.0               4   \n",
            "3  08f4d499-fd01-4ff1-ae03-76e7740aac88         35809559.0               3   \n",
            "4  16bc533e-742f-45a2-a316-f9d03c4fc4a5         96262396.0               6   \n",
            "5  18a5d7f2-0cc0-4296-af43-b72ad6170a83          6125662.0               6   \n",
            "6  1b851d5d-06e6-4f7a-b822-a35c307ef3c9         55094000.0               2   \n",
            "7  1ca1b2be-b922-4797-8545-758947a82d2f         42914904.0               2   \n",
            "8  1d98536e-0167-4605-b27e-cc583c509bb4         94799162.0               5   \n",
            "9  28166dcf-772f-4002-b006-42abf2cdc92a         62633784.0               2   \n",
            "\n",
            "                                       fund_use_list  \n",
            "0  [Equipment Purchase, Technology Upgrade, Resea...  \n",
            "1  [Equipment Purchase, Staff Hiring, Inventory, ...  \n",
            "2  [Working Capital, Research and Development, Eq...  \n",
            "3  [Technology Upgrade, Marketing, Office Expansion]  \n",
            "4  [Research and Development, Office Expansion, W...  \n",
            "5  [Inventory, Equipment Purchase, Staff Hiring, ...  \n",
            "6                       [Working Capital, Marketing]  \n",
            "7                    [Inventory, Equipment Purchase]  \n",
            "8  [Working Capital, Equipment Purchase, Research...  \n",
            "9                          [Inventory, Staff Hiring]  \n",
            "\n",
            "✅ Merged DataFrame (loan-level summary):\n",
            "                             inquiry_id  total_fund_amount  fund_use_count  \\\n",
            "0  4c534a15-b817-43d6-bc8c-38bf8a22c530         66322923.0               7   \n",
            "1  9db9ac13-2075-44b7-b0db-376a3c43a5f2         36284381.0               3   \n",
            "2  b795682e-d22f-4f81-ae08-d465d2b3e647         77739988.0               5   \n",
            "3  6d31141e-a3ef-4067-a672-535d8d32466d         11737217.0               7   \n",
            "4  ee406cbf-a250-4b75-85af-2e684fb8409a          5487598.0               3   \n",
            "5  06ce7d90-bb7e-498f-baf6-b6114984b6a4         34109423.0               4   \n",
            "6  8259c7ac-cc7d-42a0-b5ed-c3170439775d         71219536.0               6   \n",
            "7  99748d53-44b4-46fb-a121-d1c222bd5a9e         30187719.0               5   \n",
            "8  2c084d96-eeba-404e-bdbd-0dc7aeaaaf5a          1288870.0               5   \n",
            "9  f4a1ddb1-29c2-4d19-8f5f-628a4e0b56ed         36031690.0               3   \n",
            "\n",
            "                                       fund_use_list  \n",
            "0  [Research and Development, Office Expansion, M...  \n",
            "1  [Research and Development, Office Expansion, M...  \n",
            "2  [Research and Development, Inventory, Technolo...  \n",
            "3  [Working Capital, Research and Development, Eq...  \n",
            "4  [Marketing, Office Expansion, Technology Upgrade]  \n",
            "5  [Working Capital, Research and Development, Eq...  \n",
            "6  [Research and Development, Staff Hiring, Worki...  \n",
            "7  [Staff Hiring, Research and Development, Worki...  \n",
            "8  [Research and Development, Technology Upgrade,...  \n",
            "9           [Office Expansion, Marketing, Inventory]  \n",
            "\n",
            "All steps completed successfully!\n"
          ]
        }
      ]
    },
    {
      "cell_type": "code",
      "source": [
        "import pandas as pd\n",
        "import numpy as np\n",
        "import json\n",
        "\n",
        "# === STEP 1: Load cleaned loan details dataset ===\n",
        "loans_df = pd.read_csv(\"loan_details_cleaned.csv\")\n",
        "\n",
        "# Identify fund_use columns\n",
        "fund_cols = [c for c in loans_df.columns if c.startswith(\"fund_use_\")]\n",
        "\n",
        "# === STEP 2: Extract fund_use JSONs into a new DataFrame ===\n",
        "fund_records = []\n",
        "for _, row in loans_df.iterrows():\n",
        "    inquiry_id = row.get(\"inquiry_id\")\n",
        "    for idx, col in enumerate(fund_cols, start=1):\n",
        "        cell = row[col]\n",
        "        if pd.notna(cell):\n",
        "            try:\n",
        "                data = json.loads(str(cell).replace(\"'\", '\"'))\n",
        "                if isinstance(data, dict):\n",
        "                    fund_records.append({\n",
        "                        \"inquiry_id\": inquiry_id,\n",
        "                        \"fund_use_index\": idx,\n",
        "                        \"fund_use_name\": data.get(\"name\"),\n",
        "                        \"fund_use_amount\": float(data.get(\"amount\", 0))\n",
        "                    })\n",
        "            except Exception:\n",
        "                pass\n",
        "\n",
        "fund_df = pd.DataFrame(fund_records).sort_values(\n",
        "    by=[\"inquiry_id\", \"fund_use_index\"]\n",
        ").reset_index(drop=True)\n",
        "\n",
        "print(\"✅ Created fund_uses DataFrame\")\n",
        "print(f\"Total fund use records: {len(fund_df)}\")\n",
        "print(f\"Unique loans (inquiry_ids): {fund_df['inquiry_id'].nunique()}\")\n",
        "print(\"\\nSample preview:\\n\", fund_df.head(5))\n",
        "\n",
        "# === STEP 3: Create summarized version ===\n",
        "fund_summary = (\n",
        "    fund_df.groupby(\"inquiry_id\", as_index=False)\n",
        "    .agg(\n",
        "        total_fund_amount=(\"fund_use_amount\", \"sum\"),\n",
        "        fund_use_count=(\"fund_use_name\", \"count\"),\n",
        "        fund_use_list=(\"fund_use_name\", lambda x: list(x))\n",
        "    )\n",
        ")\n",
        "\n",
        "# Merge back to main loan dataset\n",
        "merged_df = loans_df.merge(fund_summary, on=\"inquiry_id\", how=\"left\")\n",
        "\n",
        "print(\"\\n✅ Merged summary created:\")\n",
        "print(merged_df[[\"inquiry_id\", \"total_fund_amount\", \"fund_use_count\"]].head(5))\n",
        "\n",
        "# === STEP 4: SAVE all three clean outputs ===\n",
        "fund_uses_path = \"fund_uses.csv\"\n",
        "loan_final_path = \"loan_details_final.csv\"\n",
        "loan_cleaned_path = \"loan_details_cleaned_checked.csv\"  # optional re-save\n",
        "\n",
        "fund_df.to_csv(fund_uses_path, index=False)\n",
        "merged_df.to_csv(loan_final_path, index=False)\n",
        "loans_df.to_csv(loan_cleaned_path, index=False)\n",
        "\n",
        "print(\"\\n📁 Files saved successfully:\")\n",
        "print(f\"1️⃣ Fund Uses → {fund_uses_path}\")\n",
        "print(f\"2️⃣ Final Loan Summary → {loan_final_path}\")\n",
        "print(f\"3️⃣ Re-checked Clean File → {loan_cleaned_path}\")"
      ],
      "metadata": {
        "colab": {
          "base_uri": "https://localhost:8080/"
        },
        "id": "jtaNDVgj3xBt",
        "outputId": "2a757e67-fc80-4da8-ec6b-f93fc4428304"
      },
      "execution_count": null,
      "outputs": [
        {
          "output_type": "stream",
          "name": "stdout",
          "text": [
            "✅ Created fund_uses DataFrame\n",
            "Total fund use records: 453\n",
            "Unique loans (inquiry_ids): 100\n",
            "\n",
            "Sample preview:\n",
            "                              inquiry_id  fund_use_index  \\\n",
            "0  03ca4a21-eb4f-482f-89d8-4c7e962574eb               1   \n",
            "1  03ca4a21-eb4f-482f-89d8-4c7e962574eb               2   \n",
            "2  03ca4a21-eb4f-482f-89d8-4c7e962574eb               3   \n",
            "3  03ca4a21-eb4f-482f-89d8-4c7e962574eb               4   \n",
            "4  03ca4a21-eb4f-482f-89d8-4c7e962574eb               5   \n",
            "\n",
            "              fund_use_name  fund_use_amount  \n",
            "0        Equipment Purchase       11802614.0  \n",
            "1        Technology Upgrade        2459909.0  \n",
            "2  Research and Development        1120798.0  \n",
            "3              Staff Hiring        8427083.0  \n",
            "4           Working Capital         503401.0  \n",
            "\n",
            "✅ Merged summary created:\n",
            "                             inquiry_id  total_fund_amount  fund_use_count\n",
            "0  4c534a15-b817-43d6-bc8c-38bf8a22c530         66322923.0               7\n",
            "1  9db9ac13-2075-44b7-b0db-376a3c43a5f2         36284381.0               3\n",
            "2  b795682e-d22f-4f81-ae08-d465d2b3e647         77739988.0               5\n",
            "3  6d31141e-a3ef-4067-a672-535d8d32466d         11737217.0               7\n",
            "4  ee406cbf-a250-4b75-85af-2e684fb8409a          5487598.0               3\n",
            "\n",
            "📁 Files saved successfully:\n",
            "1️⃣ Fund Uses → fund_uses.csv\n",
            "2️⃣ Final Loan Summary → loan_details_final.csv\n",
            "3️⃣ Re-checked Clean File → loan_details_cleaned_checked.csv\n"
          ]
        }
      ]
    },
    {
      "cell_type": "code",
      "source": [
        "import pandas as pd\n",
        "import numpy as np\n",
        "\n",
        "# --- Step 1: Load dataset ---\n",
        "df = pd.read_csv(\"loan_details_final.csv\")\n",
        "\n",
        "# --- Step 2: Drop unnecessary column ---\n",
        "if \"reason_for_acquisition\" in df.columns:\n",
        "    df.drop(columns=[\"reason_for_acquisition\"], inplace=True)\n",
        "    print(\"🗑️ Dropped column: reason_for_acquisition\")\n",
        "\n",
        "# --- Step 3: Replace all blank/none/null with NaN ---\n",
        "df = df.replace([\"\", \" \", \"null\", \"none\", \"None\"], np.nan)\n",
        "\n",
        "# --- Step 4: Identify boolean-like columns ---\n",
        "# (We’ll convert any object column that has only t/f/true/false/yes/no values)\n",
        "bool_candidates = []\n",
        "for col in df.columns:\n",
        "    if df[col].dtype == \"object\":\n",
        "        unique_vals = set(df[col].dropna().astype(str).str.lower().unique())\n",
        "        if unique_vals.issubset({\"t\", \"f\", \"true\", \"false\", \"yes\", \"no\", \"1\", \"0\"}):\n",
        "            bool_candidates.append(col)\n",
        "\n",
        "print(f\"🔍 Boolean-like columns found: {bool_candidates}\")\n",
        "\n",
        "# --- Step 5: Convert these columns to numeric 1/0 ---\n",
        "for col in bool_candidates:\n",
        "    df[col] = df[col].astype(str).str.lower().map({\n",
        "        \"t\": 1, \"true\": 1, \"yes\": 1, \"1\": 1,\n",
        "        \"f\": 0, \"false\": 0, \"no\": 0, \"0\": 0\n",
        "    }).fillna(np.nan)\n",
        "\n",
        "# --- Step 6: Preview results ---\n",
        "print(\"\\n✅ Boolean values converted and missing values standardized.\")\n",
        "print(df[bool_candidates].head(10))\n",
        "print(\"\\n🔍 Columns with missing values:\")\n",
        "print(df.isna().sum()[df.isna().sum() > 0].sort_values(ascending=False).head(10))\n",
        "\n",
        "# --- Step 7 (Optional): Save cleaned version ---\n",
        "# Use `na_rep=\"NaN\"` to explicitly write NaN text in the CSV\n",
        "df.to_csv(\"loan_details_final_cleaned.csv\", index=False, na_rep=\"NaN\")\n",
        "print(\"\\n💾 Saved cleaned file as 'loan_details_final_cleaned.csv'\")\n"
      ],
      "metadata": {
        "colab": {
          "base_uri": "https://localhost:8080/"
        },
        "id": "RAzavDpZ4idm",
        "outputId": "6abcd859-46ec-4893-889e-41d1d4779913"
      },
      "execution_count": null,
      "outputs": [
        {
          "output_type": "stream",
          "name": "stdout",
          "text": [
            "🔍 Boolean-like columns found: ['meta_status', 'no_other_use_of_funds']\n",
            "\n",
            "✅ Boolean values converted and missing values standardized.\n",
            "   meta_status  no_other_use_of_funds\n",
            "0            1                      0\n",
            "1            1                      0\n",
            "2            1                      0\n",
            "3            1                      0\n",
            "4            1                      0\n",
            "5            1                      0\n",
            "6            1                      0\n",
            "7            1                      0\n",
            "8            1                      0\n",
            "9            1                      0\n",
            "\n",
            "🔍 Columns with missing values:\n",
            "fund_use_7                   85\n",
            "business_purchase_price      78\n",
            "reason_for_acquisition_en    78\n",
            "type_of_acquisition          78\n",
            "fund_use_6                   64\n",
            "fund_use_5                   50\n",
            "fund_use_4                   34\n",
            "fund_use_3                   14\n",
            "dtype: int64\n",
            "\n",
            "💾 Saved cleaned file as 'loan_details_final_cleaned.csv'\n"
          ]
        }
      ]
    },
    {
      "cell_type": "code",
      "source": [
        "!pip install googletrans==4.0.0-rc1 langdetect\n"
      ],
      "metadata": {
        "colab": {
          "base_uri": "https://localhost:8080/",
          "height": 1000
        },
        "id": "S_tYoNZx7Tr3",
        "outputId": "71b13683-96f9-49c0-d545-830f3ef87d56"
      },
      "execution_count": null,
      "outputs": [
        {
          "output_type": "stream",
          "name": "stdout",
          "text": [
            "Collecting googletrans==4.0.0-rc1\n",
            "  Downloading googletrans-4.0.0rc1.tar.gz (20 kB)\n",
            "  Preparing metadata (setup.py) ... \u001b[?25l\u001b[?25hdone\n",
            "Collecting langdetect\n",
            "  Downloading langdetect-1.0.9.tar.gz (981 kB)\n",
            "\u001b[2K     \u001b[90m━━━━━━━━━━━━━━━━━━━━━━━━━━━━━━━━━━━━━━\u001b[0m \u001b[32m981.5/981.5 kB\u001b[0m \u001b[31m20.2 MB/s\u001b[0m eta \u001b[36m0:00:00\u001b[0m\n",
            "\u001b[?25h  Preparing metadata (setup.py) ... \u001b[?25l\u001b[?25hdone\n",
            "Collecting httpx==0.13.3 (from googletrans==4.0.0-rc1)\n",
            "  Downloading httpx-0.13.3-py3-none-any.whl.metadata (25 kB)\n",
            "Requirement already satisfied: certifi in /usr/local/lib/python3.12/dist-packages (from httpx==0.13.3->googletrans==4.0.0-rc1) (2025.10.5)\n",
            "Collecting hstspreload (from httpx==0.13.3->googletrans==4.0.0-rc1)\n",
            "  Downloading hstspreload-2025.1.1-py3-none-any.whl.metadata (2.1 kB)\n",
            "Requirement already satisfied: sniffio in /usr/local/lib/python3.12/dist-packages (from httpx==0.13.3->googletrans==4.0.0-rc1) (1.3.1)\n",
            "Collecting chardet==3.* (from httpx==0.13.3->googletrans==4.0.0-rc1)\n",
            "  Downloading chardet-3.0.4-py2.py3-none-any.whl.metadata (3.2 kB)\n",
            "Collecting idna==2.* (from httpx==0.13.3->googletrans==4.0.0-rc1)\n",
            "  Downloading idna-2.10-py2.py3-none-any.whl.metadata (9.1 kB)\n",
            "Collecting rfc3986<2,>=1.3 (from httpx==0.13.3->googletrans==4.0.0-rc1)\n",
            "  Downloading rfc3986-1.5.0-py2.py3-none-any.whl.metadata (6.5 kB)\n",
            "Collecting httpcore==0.9.* (from httpx==0.13.3->googletrans==4.0.0-rc1)\n",
            "  Downloading httpcore-0.9.1-py3-none-any.whl.metadata (4.6 kB)\n",
            "Collecting h11<0.10,>=0.8 (from httpcore==0.9.*->httpx==0.13.3->googletrans==4.0.0-rc1)\n",
            "  Downloading h11-0.9.0-py2.py3-none-any.whl.metadata (8.1 kB)\n",
            "Collecting h2==3.* (from httpcore==0.9.*->httpx==0.13.3->googletrans==4.0.0-rc1)\n",
            "  Downloading h2-3.2.0-py2.py3-none-any.whl.metadata (32 kB)\n",
            "Collecting hyperframe<6,>=5.2.0 (from h2==3.*->httpcore==0.9.*->httpx==0.13.3->googletrans==4.0.0-rc1)\n",
            "  Downloading hyperframe-5.2.0-py2.py3-none-any.whl.metadata (7.2 kB)\n",
            "Collecting hpack<4,>=3.0 (from h2==3.*->httpcore==0.9.*->httpx==0.13.3->googletrans==4.0.0-rc1)\n",
            "  Downloading hpack-3.0.0-py2.py3-none-any.whl.metadata (7.0 kB)\n",
            "Requirement already satisfied: six in /usr/local/lib/python3.12/dist-packages (from langdetect) (1.17.0)\n",
            "Downloading httpx-0.13.3-py3-none-any.whl (55 kB)\n",
            "\u001b[2K   \u001b[90m━━━━━━━━━━━━━━━━━━━━━━━━━━━━━━━━━━━━━━━━\u001b[0m \u001b[32m55.1/55.1 kB\u001b[0m \u001b[31m5.1 MB/s\u001b[0m eta \u001b[36m0:00:00\u001b[0m\n",
            "\u001b[?25hDownloading chardet-3.0.4-py2.py3-none-any.whl (133 kB)\n",
            "\u001b[2K   \u001b[90m━━━━━━━━━━━━━━━━━━━━━━━━━━━━━━━━━━━━━━━━\u001b[0m \u001b[32m133.4/133.4 kB\u001b[0m \u001b[31m13.4 MB/s\u001b[0m eta \u001b[36m0:00:00\u001b[0m\n",
            "\u001b[?25hDownloading httpcore-0.9.1-py3-none-any.whl (42 kB)\n",
            "\u001b[2K   \u001b[90m━━━━━━━━━━━━━━━━━━━━━━━━━━━━━━━━━━━━━━━━\u001b[0m \u001b[32m42.6/42.6 kB\u001b[0m \u001b[31m3.9 MB/s\u001b[0m eta \u001b[36m0:00:00\u001b[0m\n",
            "\u001b[?25hDownloading idna-2.10-py2.py3-none-any.whl (58 kB)\n",
            "\u001b[2K   \u001b[90m━━━━━━━━━━━━━━━━━━━━━━━━━━━━━━━━━━━━━━━━\u001b[0m \u001b[32m58.8/58.8 kB\u001b[0m \u001b[31m5.2 MB/s\u001b[0m eta \u001b[36m0:00:00\u001b[0m\n",
            "\u001b[?25hDownloading h2-3.2.0-py2.py3-none-any.whl (65 kB)\n",
            "\u001b[2K   \u001b[90m━━━━━━━━━━━━━━━━━━━━━━━━━━━━━━━━━━━━━━━━\u001b[0m \u001b[32m65.0/65.0 kB\u001b[0m \u001b[31m6.5 MB/s\u001b[0m eta \u001b[36m0:00:00\u001b[0m\n",
            "\u001b[?25hDownloading rfc3986-1.5.0-py2.py3-none-any.whl (31 kB)\n",
            "Downloading hstspreload-2025.1.1-py3-none-any.whl (1.3 MB)\n",
            "\u001b[2K   \u001b[90m━━━━━━━━━━━━━━━━━━━━━━━━━━━━━━━━━━━━━━━━\u001b[0m \u001b[32m1.3/1.3 MB\u001b[0m \u001b[31m54.2 MB/s\u001b[0m eta \u001b[36m0:00:00\u001b[0m\n",
            "\u001b[?25hDownloading h11-0.9.0-py2.py3-none-any.whl (53 kB)\n",
            "\u001b[2K   \u001b[90m━━━━━━━━━━━━━━━━━━━━━━━━━━━━━━━━━━━━━━━━\u001b[0m \u001b[32m53.6/53.6 kB\u001b[0m \u001b[31m4.9 MB/s\u001b[0m eta \u001b[36m0:00:00\u001b[0m\n",
            "\u001b[?25hDownloading hpack-3.0.0-py2.py3-none-any.whl (38 kB)\n",
            "Downloading hyperframe-5.2.0-py2.py3-none-any.whl (12 kB)\n",
            "Building wheels for collected packages: googletrans, langdetect\n",
            "  Building wheel for googletrans (setup.py) ... \u001b[?25l\u001b[?25hdone\n",
            "  Created wheel for googletrans: filename=googletrans-4.0.0rc1-py3-none-any.whl size=17396 sha256=cf175641f587d88f816b443fbc7c0b7b52f1c89ca74c13c4b8fcfe6d55df6183\n",
            "  Stored in directory: /root/.cache/pip/wheels/95/0f/04/b17a72024b56a60e499ce1a6313d283ed5ba332407155bee03\n",
            "  Building wheel for langdetect (setup.py) ... \u001b[?25l\u001b[?25hdone\n",
            "  Created wheel for langdetect: filename=langdetect-1.0.9-py3-none-any.whl size=993223 sha256=f331ed5df8ab3ea46a5f62bb15557f3446ebcc3fa1b591e2965727380c668c74\n",
            "  Stored in directory: /root/.cache/pip/wheels/c1/67/88/e844b5b022812e15a52e4eaa38a1e709e99f06f6639d7e3ba7\n",
            "Successfully built googletrans langdetect\n",
            "Installing collected packages: rfc3986, hyperframe, hpack, h11, chardet, langdetect, idna, hstspreload, h2, httpcore, httpx, googletrans\n",
            "  Attempting uninstall: hyperframe\n",
            "    Found existing installation: hyperframe 6.1.0\n",
            "    Uninstalling hyperframe-6.1.0:\n",
            "      Successfully uninstalled hyperframe-6.1.0\n",
            "  Attempting uninstall: hpack\n",
            "    Found existing installation: hpack 4.1.0\n",
            "    Uninstalling hpack-4.1.0:\n",
            "      Successfully uninstalled hpack-4.1.0\n",
            "  Attempting uninstall: h11\n",
            "    Found existing installation: h11 0.16.0\n",
            "    Uninstalling h11-0.16.0:\n",
            "      Successfully uninstalled h11-0.16.0\n",
            "  Attempting uninstall: chardet\n",
            "    Found existing installation: chardet 5.2.0\n",
            "    Uninstalling chardet-5.2.0:\n",
            "      Successfully uninstalled chardet-5.2.0\n",
            "  Attempting uninstall: idna\n",
            "    Found existing installation: idna 3.10\n",
            "    Uninstalling idna-3.10:\n",
            "      Successfully uninstalled idna-3.10\n",
            "  Attempting uninstall: h2\n",
            "    Found existing installation: h2 4.3.0\n",
            "    Uninstalling h2-4.3.0:\n",
            "      Successfully uninstalled h2-4.3.0\n",
            "  Attempting uninstall: httpcore\n",
            "    Found existing installation: httpcore 1.0.9\n",
            "    Uninstalling httpcore-1.0.9:\n",
            "      Successfully uninstalled httpcore-1.0.9\n",
            "  Attempting uninstall: httpx\n",
            "    Found existing installation: httpx 0.28.1\n",
            "    Uninstalling httpx-0.28.1:\n",
            "      Successfully uninstalled httpx-0.28.1\n",
            "  Attempting uninstall: googletrans\n",
            "    Found existing installation: googletrans 4.0.2\n",
            "    Uninstalling googletrans-4.0.2:\n",
            "      Successfully uninstalled googletrans-4.0.2\n",
            "\u001b[31mERROR: pip's dependency resolver does not currently take into account all the packages that are installed. This behaviour is the source of the following dependency conflicts.\n",
            "openai 1.109.1 requires httpx<1,>=0.23.0, but you have httpx 0.13.3 which is incompatible.\n",
            "firebase-admin 6.9.0 requires httpx[http2]==0.28.1, but you have httpx 0.13.3 which is incompatible.\n",
            "mcp 1.16.0 requires httpx>=0.27.1, but you have httpx 0.13.3 which is incompatible.\n",
            "gradio-client 1.13.3 requires httpx>=0.24.1, but you have httpx 0.13.3 which is incompatible.\n",
            "gradio 5.49.0 requires httpx<1.0,>=0.24.1, but you have httpx 0.13.3 which is incompatible.\n",
            "google-genai 1.41.0 requires httpx<1.0.0,>=0.28.1, but you have httpx 0.13.3 which is incompatible.\n",
            "langsmith 0.4.33 requires httpx<1,>=0.23.0, but you have httpx 0.13.3 which is incompatible.\u001b[0m\u001b[31m\n",
            "\u001b[0mSuccessfully installed chardet-3.0.4 googletrans-4.0.0rc1 h11-0.9.0 h2-3.2.0 hpack-3.0.0 hstspreload-2025.1.1 httpcore-0.9.1 httpx-0.13.3 hyperframe-5.2.0 idna-2.10 langdetect-1.0.9 rfc3986-1.5.0\n"
          ]
        },
        {
          "output_type": "stream",
          "name": "stderr",
          "text": [
            "/usr/lib/python3.12/importlib/metadata/_collections.py:21: RuntimeWarning: coroutine 'Translator.translate' was never awaited\n",
            "  return getattr(self, '_frozen', super().__missing__)(key)\n",
            "RuntimeWarning: Enable tracemalloc to get the object allocation traceback\n"
          ]
        },
        {
          "output_type": "display_data",
          "data": {
            "application/vnd.colab-display-data+json": {
              "pip_warning": {
                "packages": [
                  "googletrans",
                  "h11",
                  "h2",
                  "hpack",
                  "httpcore",
                  "httpx",
                  "hyperframe",
                  "idna"
                ]
              },
              "id": "e1be370f45f5407483c8f622506b2652"
            }
          },
          "metadata": {}
        }
      ]
    },
    {
      "cell_type": "code",
      "source": [
        "import pandas as pd\n",
        "\n",
        "# Load the final cleaned file\n",
        "df = pd.read_csv(\"loan_details_final_cleaned.csv\")\n",
        "\n",
        "# Columns you want to drop\n",
        "cols_to_drop = [\n",
        "    \"user_id\",\n",
        "    \"organization_id\",\n",
        "    \"id\",\n",
        "    \"meta_status\",\n",
        "    \"no_other_use_of_funds\",\n",
        "    \"type_of_acquisition\",           # assuming column name matches exactly\n",
        "    \"reason_for_acquisiton_en\"       # assuming column name matches exactly\n",
        "]\n",
        "\n",
        "# Drop only if they exist (avoids KeyError)\n",
        "existing = [c for c in cols_to_drop if c in df.columns]\n",
        "df.drop(columns=existing, inplace=True)\n",
        "\n",
        "print(f\"🗑️ Dropped columns: {existing}\")\n",
        "print(f\"✅ Remaining columns: {len(df.columns)}\")\n",
        "\n",
        "# Preview the resulting DataFrame\n",
        "print(\"\\nSample of the cleaned DataFrame:\")\n",
        "print(df.head(10))\n",
        "\n",
        "# Optionally save the updated version\n",
        "df.to_csv(\"loan_details_final_data.csv\", index=False)\n",
        "print(\"\\n💾 Saved new file as 'loan_details_final_data.csv'\")"
      ],
      "metadata": {
        "id": "I1CppKGM7jd8",
        "colab": {
          "base_uri": "https://localhost:8080/"
        },
        "outputId": "10fbc17c-a6dc-4468-9d1b-826ed3b0b784"
      },
      "execution_count": null,
      "outputs": [
        {
          "output_type": "stream",
          "name": "stdout",
          "text": [
            "🗑️ Dropped columns: ['user_id', 'organization_id', 'id', 'meta_status', 'no_other_use_of_funds', 'type_of_acquisition']\n",
            "✅ Remaining columns: 16\n",
            "\n",
            "Sample of the cleaned DataFrame:\n",
            "                             inquiry_id  equity_injection  \\\n",
            "0  4c534a15-b817-43d6-bc8c-38bf8a22c530          15072901   \n",
            "1  9db9ac13-2075-44b7-b0db-376a3c43a5f2           4598676   \n",
            "2  b795682e-d22f-4f81-ae08-d465d2b3e647          13469521   \n",
            "3  6d31141e-a3ef-4067-a672-535d8d32466d           2449088   \n",
            "4  ee406cbf-a250-4b75-85af-2e684fb8409a           1118094   \n",
            "5  06ce7d90-bb7e-498f-baf6-b6114984b6a4           8604774   \n",
            "6  8259c7ac-cc7d-42a0-b5ed-c3170439775d          19588928   \n",
            "7  99748d53-44b4-46fb-a121-d1c222bd5a9e           3255191   \n",
            "8  2c084d96-eeba-404e-bdbd-0dc7aeaaaf5a            187469   \n",
            "9  f4a1ddb1-29c2-4d19-8f5f-628a4e0b56ed           6607387   \n",
            "\n",
            "   business_purchase_price  is_providing_collateral  \\\n",
            "0                      NaN                        0   \n",
            "1                5759660.0                        0   \n",
            "2                      NaN                        0   \n",
            "3                3170747.0                        0   \n",
            "4                      NaN                        0   \n",
            "5                      NaN                        1   \n",
            "6                      NaN                        1   \n",
            "7                      NaN                        0   \n",
            "8                      NaN                        1   \n",
            "9                      NaN                        0   \n",
            "\n",
            "   is_interested_in_refinancing_existing_debt  \\\n",
            "0                                           0   \n",
            "1                                           0   \n",
            "2                                           1   \n",
            "3                                           1   \n",
            "4                                           0   \n",
            "5                                           1   \n",
            "6                                           1   \n",
            "7                                           0   \n",
            "8                                           1   \n",
            "9                                           0   \n",
            "\n",
            "                           reason_for_acquisition_en  \\\n",
            "0                                                NaN   \n",
            "1  Uter coerceo adopto magni cornu templum corrig...   \n",
            "2                                                NaN   \n",
            "3  Dolore vitiosus temperantia ars talus aqua pec...   \n",
            "4                                                NaN   \n",
            "5                                                NaN   \n",
            "6                                                NaN   \n",
            "7                                                NaN   \n",
            "8                                                NaN   \n",
            "9                                                NaN   \n",
            "\n",
            "                                          fund_use_1  \\\n",
            "0  {'id': 'd017b408-cbd2-4c87-a84b-117d70368614',...   \n",
            "1  {'id': 'a106a699-72b8-4ccd-a36a-631e3bd822c6',...   \n",
            "2  {'id': 'cffae8a9-c88a-4312-9f51-6913d3ea80f4',...   \n",
            "3  {'id': '38772f25-4bad-4c29-91c2-18c300cc017a',...   \n",
            "4  {'id': '0ee2b7a0-6c77-492a-8fbd-984c3baa1927',...   \n",
            "5  {'id': 'c960bf6b-f3b1-4c26-851d-e0509d0c5004',...   \n",
            "6  {'id': 'c8693009-d85b-49dc-9f8b-96da766bac3a',...   \n",
            "7  {'id': '16e5ef4f-b155-422c-ba28-539706cc1edc',...   \n",
            "8  {'id': '74cadce9-ee1d-46f9-8903-bc2f112befab',...   \n",
            "9  {'id': '4281eb1b-6fd8-49a3-869a-e61476063557',...   \n",
            "\n",
            "                                          fund_use_2  \\\n",
            "0  {'id': 'b95ff501-af26-480e-81e5-0a3d9f9ded40',...   \n",
            "1  {'id': '26401168-9cd4-4bb1-bc57-c0bd14e09397',...   \n",
            "2  {'id': '105ff5c5-38a9-4008-90e5-3413d150ad0e',...   \n",
            "3  {'id': '6d509d56-a7cb-4974-bf1d-e06139fb4f68',...   \n",
            "4  {'id': 'cf7bcc7d-dc47-4db0-a517-2eb41a15e435',...   \n",
            "5  {'id': '649f3b3d-4645-4c41-a916-3cde1c84654a',...   \n",
            "6  {'id': '7d6e6319-de99-4555-b5a6-be5b4a4ca124',...   \n",
            "7  {'id': '1be3d4b2-31cc-4a4f-a6b2-49b5bcccf2c8',...   \n",
            "8  {'id': '93799708-4311-4b35-af81-0a55f4d6339a',...   \n",
            "9  {'id': 'dc2e817f-3315-44ea-b87c-41a475bcdb5e',...   \n",
            "\n",
            "                                          fund_use_3  \\\n",
            "0  {'id': '3f657c40-28da-4c60-984e-39c94da72ee0',...   \n",
            "1  {'id': '299776e3-cfb5-4479-b6bc-cfea75477d5a',...   \n",
            "2  {'id': '12c6bb3b-ca39-4310-a3b5-45931afe93ed',...   \n",
            "3  {'id': '8a1464f9-0c49-4982-bbc5-de55abccb3cc',...   \n",
            "4  {'id': '88c4cbb5-99e1-4e7f-a01f-31cd3286ca79',...   \n",
            "5  {'id': '00fe1c84-accd-4471-8768-0fe08cf6a8f7',...   \n",
            "6  {'id': '19809e5d-ee1c-483b-bf65-8abf40b6b8b3',...   \n",
            "7  {'id': '66afb72f-113a-4634-9705-2b97fd835310',...   \n",
            "8  {'id': '92ebaffa-4eb1-4b90-be5f-817d30eed290',...   \n",
            "9  {'id': 'b0bd1ddd-abb9-4a44-b2d2-d8dba6626d32',...   \n",
            "\n",
            "                                          fund_use_4  \\\n",
            "0  {'id': 'f83c62aa-1d23-4e11-a302-e8ef75356cb8',...   \n",
            "1                                                NaN   \n",
            "2  {'id': 'c5d8ed57-d3c0-48a4-b6ad-54c62675a2c2',...   \n",
            "3  {'id': '848bcd3f-cf7b-4288-b3f3-1ed0ac9facfe',...   \n",
            "4                                                NaN   \n",
            "5  {'id': 'ebb3d824-c5b3-41dd-af7e-3c8b3ed8989f',...   \n",
            "6  {'id': '19fb075d-31dd-4f83-80c9-a6944853a314',...   \n",
            "7  {'id': '3aa83e34-e2f5-4098-91ef-f07e63d5a89f',...   \n",
            "8  {'id': 'c72f2bb1-9315-4b2c-a02c-7ba561df629a',...   \n",
            "9                                                NaN   \n",
            "\n",
            "                                          fund_use_5  \\\n",
            "0  {'id': '86b5d8d7-1dd1-4b76-b33e-79e792b8a287',...   \n",
            "1                                                NaN   \n",
            "2  {'id': 'abe09b55-11e3-4f0c-a79a-35d356996fc8',...   \n",
            "3  {'id': '266242fc-401b-4694-84d3-af7aa8e2a035',...   \n",
            "4                                                NaN   \n",
            "5                                                NaN   \n",
            "6  {'id': '46265126-36e3-4729-a319-ff8094349f13',...   \n",
            "7  {'id': '340f6e8b-5ca4-4c6f-af5b-6068e2c45bc7',...   \n",
            "8  {'id': '33cfc311-42f4-4a0f-8b37-e46f41def174',...   \n",
            "9                                                NaN   \n",
            "\n",
            "                                          fund_use_6  \\\n",
            "0  {'id': '07abf701-66c2-4751-b126-7dfb58186761',...   \n",
            "1                                                NaN   \n",
            "2                                                NaN   \n",
            "3  {'id': '788f3962-c937-4767-9a0e-3a0cc6d8fbea',...   \n",
            "4                                                NaN   \n",
            "5                                                NaN   \n",
            "6  {'id': '56d6f969-d50e-47a2-a90c-11ea5551491c',...   \n",
            "7                                                NaN   \n",
            "8                                                NaN   \n",
            "9                                                NaN   \n",
            "\n",
            "                                          fund_use_7  total_fund_amount  \\\n",
            "0  {'id': 'f3d0b656-0e23-4d17-b84b-1b66549136d3',...         66322923.0   \n",
            "1                                                NaN         36284381.0   \n",
            "2                                                NaN         77739988.0   \n",
            "3  {'id': '88a9b234-7f65-477f-a56c-f566d144c26c',...         11737217.0   \n",
            "4                                                NaN          5487598.0   \n",
            "5                                                NaN         34109423.0   \n",
            "6                                                NaN         71219536.0   \n",
            "7                                                NaN         30187719.0   \n",
            "8                                                NaN          1288870.0   \n",
            "9                                                NaN         36031690.0   \n",
            "\n",
            "   fund_use_count                                      fund_use_list  \n",
            "0               7  ['Research and Development', 'Office Expansion...  \n",
            "1               3  ['Research and Development', 'Office Expansion...  \n",
            "2               5  ['Research and Development', 'Inventory', 'Tec...  \n",
            "3               7  ['Working Capital', 'Research and Development'...  \n",
            "4               3  ['Marketing', 'Office Expansion', 'Technology ...  \n",
            "5               4  ['Working Capital', 'Research and Development'...  \n",
            "6               6  ['Research and Development', 'Staff Hiring', '...  \n",
            "7               5  ['Staff Hiring', 'Research and Development', '...  \n",
            "8               5  ['Research and Development', 'Technology Upgra...  \n",
            "9               3     ['Office Expansion', 'Marketing', 'Inventory']  \n",
            "\n",
            "💾 Saved new file as 'loan_details_final_data.csv'\n"
          ]
        }
      ]
    },
    {
      "cell_type": "code",
      "source": [
        "df.to_csv(\"loan_details_cap.csv\", index=False)\n",
        "print(\"\\n💾 Saved new file as 'loan_details_cap.csv'\")"
      ],
      "metadata": {
        "colab": {
          "base_uri": "https://localhost:8080/"
        },
        "id": "fMNcCPvEhXds",
        "outputId": "69400d4d-d9da-4e57-d218-3d9804da0fb9"
      },
      "execution_count": null,
      "outputs": [
        {
          "output_type": "stream",
          "name": "stdout",
          "text": [
            "\n",
            "💾 Saved new file as 'loan_details_cap.csv'\n"
          ]
        }
      ]
    },
    {
      "cell_type": "code",
      "source": [
        "import pandas as pd\n",
        "import numpy as np\n",
        "\n",
        "# --- Step 1: Load your latest dataset ---\n",
        "df = pd.read_csv(\"loan_details_final_data.csv\")\n",
        "\n",
        "# --- Step 2: Drop 'reason_for_acquisition_en' column if it exists ---\n",
        "if \"reason_for_acquisition_en\" in df.columns:\n",
        "    df.drop(columns=[\"reason_for_acquisition_en\"], inplace=True)\n",
        "    print(\"🗑️ Dropped column: reason_for_acquisition_en\")\n",
        "\n",
        "# --- Step 3: Replace blank/null values in 'business_purchase_price' with 0 ---\n",
        "if \"business_purchase_price\" in df.columns:\n",
        "    df[\"business_purchase_price\"] = (\n",
        "        df[\"business_purchase_price\"]\n",
        "        .replace([\"\", \" \", \"null\", \"None\", np.nan], 0)\n",
        "        .astype(float)\n",
        "    )\n",
        "    print(\"🔢 Replaced blank/null in business_purchase_price with 0\")\n",
        "\n",
        "# --- Step 4: Preview changes ---\n",
        "print(\"\\n✅ Cleaned Data Sample:\")\n",
        "print(df[[\"business_purchase_price\"]].head(10))\n",
        "\n",
        "# --- Step 5 (Optional): Save updated file ---\n",
        "df.to_csv(\"loan_details_final_data_cleaned.csv\", index=False)\n",
        "print(\"\\n💾 Saved cleaned dataset as 'loan_details_final_data_cleaned.csv'\")"
      ],
      "metadata": {
        "colab": {
          "base_uri": "https://localhost:8080/"
        },
        "id": "OAIjeGSw5D_x",
        "outputId": "3f64af67-863b-4c91-e76d-d50320891328"
      },
      "execution_count": null,
      "outputs": [
        {
          "output_type": "stream",
          "name": "stdout",
          "text": [
            "🗑️ Dropped column: reason_for_acquisition_en\n",
            "🔢 Replaced blank/null in business_purchase_price with 0\n",
            "\n",
            "✅ Cleaned Data Sample:\n",
            "   business_purchase_price\n",
            "0                      0.0\n",
            "1                5759660.0\n",
            "2                      0.0\n",
            "3                3170747.0\n",
            "4                      0.0\n",
            "5                      0.0\n",
            "6                      0.0\n",
            "7                      0.0\n",
            "8                      0.0\n",
            "9                      0.0\n",
            "\n",
            "💾 Saved cleaned dataset as 'loan_details_final_data_cleaned.csv'\n"
          ]
        }
      ]
    },
    {
      "cell_type": "code",
      "source": [
        "import pandas as pd\n",
        "\n",
        "# Step 1: Load the fund_uses file\n",
        "df = pd.read_csv(\"fund_uses.csv\")\n",
        "\n",
        "# Step 2: Group by inquiry_id and aggregate into lists\n",
        "fund_grouped = (\n",
        "    df.groupby(\"inquiry_id\", as_index=False)\n",
        "    .agg({\n",
        "        \"fund_use_name\": list,\n",
        "        \"fund_use_amount\": list\n",
        "    })\n",
        "    .rename(columns={\n",
        "        \"fund_use_name\": \"fund_use_list\",\n",
        "        \"fund_use_amount\": \"fund_amount_list\"\n",
        "    })\n",
        ")\n",
        "\n",
        "# Step 3: Preview the result\n",
        "print(\"✅ Grouped fund uses successfully!\\n\")\n",
        "print(fund_grouped.head(10))\n",
        "\n",
        "# Step 4 (Optional): Save to new CSV file\n",
        "fund_grouped.to_csv(\"fund_uses_grouped.csv\", index=False)\n",
        "print(\"\\n💾 Saved new grouped file as 'fund_uses_grouped.csv'\")"
      ],
      "metadata": {
        "id": "uclkxM8V5t5f",
        "colab": {
          "base_uri": "https://localhost:8080/"
        },
        "outputId": "837e5af4-d765-4d70-f584-f9e7548baaf8"
      },
      "execution_count": null,
      "outputs": [
        {
          "output_type": "stream",
          "name": "stdout",
          "text": [
            "✅ Grouped fund uses successfully!\n",
            "\n",
            "                             inquiry_id  \\\n",
            "0  03ca4a21-eb4f-482f-89d8-4c7e962574eb   \n",
            "1  03ee3970-30b4-4e74-92c5-96511c45e5a9   \n",
            "2  06ce7d90-bb7e-498f-baf6-b6114984b6a4   \n",
            "3  08f4d499-fd01-4ff1-ae03-76e7740aac88   \n",
            "4  16bc533e-742f-45a2-a316-f9d03c4fc4a5   \n",
            "5  18a5d7f2-0cc0-4296-af43-b72ad6170a83   \n",
            "6  1b851d5d-06e6-4f7a-b822-a35c307ef3c9   \n",
            "7  1ca1b2be-b922-4797-8545-758947a82d2f   \n",
            "8  1d98536e-0167-4605-b27e-cc583c509bb4   \n",
            "9  28166dcf-772f-4002-b006-42abf2cdc92a   \n",
            "\n",
            "                                       fund_use_list  \\\n",
            "0  [Equipment Purchase, Technology Upgrade, Resea...   \n",
            "1  [Equipment Purchase, Staff Hiring, Inventory, ...   \n",
            "2  [Working Capital, Research and Development, Eq...   \n",
            "3  [Technology Upgrade, Marketing, Office Expansion]   \n",
            "4  [Research and Development, Office Expansion, W...   \n",
            "5  [Inventory, Equipment Purchase, Staff Hiring, ...   \n",
            "6                       [Working Capital, Marketing]   \n",
            "7                    [Inventory, Equipment Purchase]   \n",
            "8  [Working Capital, Equipment Purchase, Research...   \n",
            "9                          [Inventory, Staff Hiring]   \n",
            "\n",
            "                                    fund_amount_list  \n",
            "0  [11802614.0, 2459909.0, 1120798.0, 8427083.0, ...  \n",
            "1      [1975341.0, 5061852.0, 1623317.0, 21069383.0]  \n",
            "2       [943387.0, 1335149.0, 7848622.0, 23982265.0]  \n",
            "3                 [3300547.0, 2822785.0, 29686227.0]  \n",
            "4  [3758103.0, 7666895.0, 1986493.0, 8870425.0, 9...  \n",
            "5  [773202.0, 1169064.0, 508672.0, 500000.0, 5000...  \n",
            "6                            [2578752.0, 52515248.0]  \n",
            "7                            [3673848.0, 39241056.0]  \n",
            "8  [1447208.0, 21428847.0, 2427543.0, 3547769.0, ...  \n",
            "9                            [3999234.0, 58634550.0]  \n",
            "\n",
            "💾 Saved new grouped file as 'fund_uses_grouped.csv'\n"
          ]
        }
      ]
    },
    {
      "cell_type": "code",
      "source": [
        "import pandas as pd\n",
        "\n",
        "# Step 1: Load both datasets\n",
        "loan_df = pd.read_csv(\"loan_details_final_data_cleaned.csv\")\n",
        "fund_df = pd.read_csv(\"fund_uses_grouped.csv\")\n",
        "\n",
        "# Step 2: Merge using inquiry_id\n",
        "merged_df = loan_df.merge(fund_df, on=\"inquiry_id\", how=\"left\")\n",
        "\n",
        "# Step 3: Preview the merged dataset\n",
        "print(\"✅ Merged successfully!\")\n",
        "print(f\"Total rows: {len(merged_df)}\")\n",
        "print(f\"Columns after merge: {len(merged_df.columns)}\")\n",
        "print(\"\\nSample preview:\")\n",
        "print(merged_df.head(10))\n",
        "\n",
        "# Step 4 (Optional): Save the merged version\n",
        "merged_df.to_csv(\"loan_details_with_fund_groups.csv\", index=False)\n",
        "print(\"\\n💾 Saved as 'loan_details_with_fund_groups.csv'\")"
      ],
      "metadata": {
        "colab": {
          "base_uri": "https://localhost:8080/"
        },
        "id": "FQS2CQKSQ5ZG",
        "outputId": "f3190701-2af7-4c1c-beb9-de6d08470523"
      },
      "execution_count": null,
      "outputs": [
        {
          "output_type": "stream",
          "name": "stdout",
          "text": [
            "✅ Merged successfully!\n",
            "Total rows: 100\n",
            "Columns after merge: 17\n",
            "\n",
            "Sample preview:\n",
            "                             inquiry_id  equity_injection  \\\n",
            "0  4c534a15-b817-43d6-bc8c-38bf8a22c530          15072901   \n",
            "1  9db9ac13-2075-44b7-b0db-376a3c43a5f2           4598676   \n",
            "2  b795682e-d22f-4f81-ae08-d465d2b3e647          13469521   \n",
            "3  6d31141e-a3ef-4067-a672-535d8d32466d           2449088   \n",
            "4  ee406cbf-a250-4b75-85af-2e684fb8409a           1118094   \n",
            "5  06ce7d90-bb7e-498f-baf6-b6114984b6a4           8604774   \n",
            "6  8259c7ac-cc7d-42a0-b5ed-c3170439775d          19588928   \n",
            "7  99748d53-44b4-46fb-a121-d1c222bd5a9e           3255191   \n",
            "8  2c084d96-eeba-404e-bdbd-0dc7aeaaaf5a            187469   \n",
            "9  f4a1ddb1-29c2-4d19-8f5f-628a4e0b56ed           6607387   \n",
            "\n",
            "   business_purchase_price  is_providing_collateral  \\\n",
            "0                      0.0                        0   \n",
            "1                5759660.0                        0   \n",
            "2                      0.0                        0   \n",
            "3                3170747.0                        0   \n",
            "4                      0.0                        0   \n",
            "5                      0.0                        1   \n",
            "6                      0.0                        1   \n",
            "7                      0.0                        0   \n",
            "8                      0.0                        1   \n",
            "9                      0.0                        0   \n",
            "\n",
            "   is_interested_in_refinancing_existing_debt  \\\n",
            "0                                           0   \n",
            "1                                           0   \n",
            "2                                           1   \n",
            "3                                           1   \n",
            "4                                           0   \n",
            "5                                           1   \n",
            "6                                           1   \n",
            "7                                           0   \n",
            "8                                           1   \n",
            "9                                           0   \n",
            "\n",
            "                                          fund_use_1  \\\n",
            "0  {'id': 'd017b408-cbd2-4c87-a84b-117d70368614',...   \n",
            "1  {'id': 'a106a699-72b8-4ccd-a36a-631e3bd822c6',...   \n",
            "2  {'id': 'cffae8a9-c88a-4312-9f51-6913d3ea80f4',...   \n",
            "3  {'id': '38772f25-4bad-4c29-91c2-18c300cc017a',...   \n",
            "4  {'id': '0ee2b7a0-6c77-492a-8fbd-984c3baa1927',...   \n",
            "5  {'id': 'c960bf6b-f3b1-4c26-851d-e0509d0c5004',...   \n",
            "6  {'id': 'c8693009-d85b-49dc-9f8b-96da766bac3a',...   \n",
            "7  {'id': '16e5ef4f-b155-422c-ba28-539706cc1edc',...   \n",
            "8  {'id': '74cadce9-ee1d-46f9-8903-bc2f112befab',...   \n",
            "9  {'id': '4281eb1b-6fd8-49a3-869a-e61476063557',...   \n",
            "\n",
            "                                          fund_use_2  \\\n",
            "0  {'id': 'b95ff501-af26-480e-81e5-0a3d9f9ded40',...   \n",
            "1  {'id': '26401168-9cd4-4bb1-bc57-c0bd14e09397',...   \n",
            "2  {'id': '105ff5c5-38a9-4008-90e5-3413d150ad0e',...   \n",
            "3  {'id': '6d509d56-a7cb-4974-bf1d-e06139fb4f68',...   \n",
            "4  {'id': 'cf7bcc7d-dc47-4db0-a517-2eb41a15e435',...   \n",
            "5  {'id': '649f3b3d-4645-4c41-a916-3cde1c84654a',...   \n",
            "6  {'id': '7d6e6319-de99-4555-b5a6-be5b4a4ca124',...   \n",
            "7  {'id': '1be3d4b2-31cc-4a4f-a6b2-49b5bcccf2c8',...   \n",
            "8  {'id': '93799708-4311-4b35-af81-0a55f4d6339a',...   \n",
            "9  {'id': 'dc2e817f-3315-44ea-b87c-41a475bcdb5e',...   \n",
            "\n",
            "                                          fund_use_3  \\\n",
            "0  {'id': '3f657c40-28da-4c60-984e-39c94da72ee0',...   \n",
            "1  {'id': '299776e3-cfb5-4479-b6bc-cfea75477d5a',...   \n",
            "2  {'id': '12c6bb3b-ca39-4310-a3b5-45931afe93ed',...   \n",
            "3  {'id': '8a1464f9-0c49-4982-bbc5-de55abccb3cc',...   \n",
            "4  {'id': '88c4cbb5-99e1-4e7f-a01f-31cd3286ca79',...   \n",
            "5  {'id': '00fe1c84-accd-4471-8768-0fe08cf6a8f7',...   \n",
            "6  {'id': '19809e5d-ee1c-483b-bf65-8abf40b6b8b3',...   \n",
            "7  {'id': '66afb72f-113a-4634-9705-2b97fd835310',...   \n",
            "8  {'id': '92ebaffa-4eb1-4b90-be5f-817d30eed290',...   \n",
            "9  {'id': 'b0bd1ddd-abb9-4a44-b2d2-d8dba6626d32',...   \n",
            "\n",
            "                                          fund_use_4  \\\n",
            "0  {'id': 'f83c62aa-1d23-4e11-a302-e8ef75356cb8',...   \n",
            "1                                                NaN   \n",
            "2  {'id': 'c5d8ed57-d3c0-48a4-b6ad-54c62675a2c2',...   \n",
            "3  {'id': '848bcd3f-cf7b-4288-b3f3-1ed0ac9facfe',...   \n",
            "4                                                NaN   \n",
            "5  {'id': 'ebb3d824-c5b3-41dd-af7e-3c8b3ed8989f',...   \n",
            "6  {'id': '19fb075d-31dd-4f83-80c9-a6944853a314',...   \n",
            "7  {'id': '3aa83e34-e2f5-4098-91ef-f07e63d5a89f',...   \n",
            "8  {'id': 'c72f2bb1-9315-4b2c-a02c-7ba561df629a',...   \n",
            "9                                                NaN   \n",
            "\n",
            "                                          fund_use_5  \\\n",
            "0  {'id': '86b5d8d7-1dd1-4b76-b33e-79e792b8a287',...   \n",
            "1                                                NaN   \n",
            "2  {'id': 'abe09b55-11e3-4f0c-a79a-35d356996fc8',...   \n",
            "3  {'id': '266242fc-401b-4694-84d3-af7aa8e2a035',...   \n",
            "4                                                NaN   \n",
            "5                                                NaN   \n",
            "6  {'id': '46265126-36e3-4729-a319-ff8094349f13',...   \n",
            "7  {'id': '340f6e8b-5ca4-4c6f-af5b-6068e2c45bc7',...   \n",
            "8  {'id': '33cfc311-42f4-4a0f-8b37-e46f41def174',...   \n",
            "9                                                NaN   \n",
            "\n",
            "                                          fund_use_6  \\\n",
            "0  {'id': '07abf701-66c2-4751-b126-7dfb58186761',...   \n",
            "1                                                NaN   \n",
            "2                                                NaN   \n",
            "3  {'id': '788f3962-c937-4767-9a0e-3a0cc6d8fbea',...   \n",
            "4                                                NaN   \n",
            "5                                                NaN   \n",
            "6  {'id': '56d6f969-d50e-47a2-a90c-11ea5551491c',...   \n",
            "7                                                NaN   \n",
            "8                                                NaN   \n",
            "9                                                NaN   \n",
            "\n",
            "                                          fund_use_7  total_fund_amount  \\\n",
            "0  {'id': 'f3d0b656-0e23-4d17-b84b-1b66549136d3',...         66322923.0   \n",
            "1                                                NaN         36284381.0   \n",
            "2                                                NaN         77739988.0   \n",
            "3  {'id': '88a9b234-7f65-477f-a56c-f566d144c26c',...         11737217.0   \n",
            "4                                                NaN          5487598.0   \n",
            "5                                                NaN         34109423.0   \n",
            "6                                                NaN         71219536.0   \n",
            "7                                                NaN         30187719.0   \n",
            "8                                                NaN          1288870.0   \n",
            "9                                                NaN         36031690.0   \n",
            "\n",
            "   fund_use_count                                    fund_use_list_x  \\\n",
            "0               7  ['Research and Development', 'Office Expansion...   \n",
            "1               3  ['Research and Development', 'Office Expansion...   \n",
            "2               5  ['Research and Development', 'Inventory', 'Tec...   \n",
            "3               7  ['Working Capital', 'Research and Development'...   \n",
            "4               3  ['Marketing', 'Office Expansion', 'Technology ...   \n",
            "5               4  ['Working Capital', 'Research and Development'...   \n",
            "6               6  ['Research and Development', 'Staff Hiring', '...   \n",
            "7               5  ['Staff Hiring', 'Research and Development', '...   \n",
            "8               5  ['Research and Development', 'Technology Upgra...   \n",
            "9               3     ['Office Expansion', 'Marketing', 'Inventory']   \n",
            "\n",
            "                                     fund_use_list_y  \\\n",
            "0  ['Research and Development', 'Office Expansion...   \n",
            "1  ['Research and Development', 'Office Expansion...   \n",
            "2  ['Research and Development', 'Inventory', 'Tec...   \n",
            "3  ['Working Capital', 'Research and Development'...   \n",
            "4  ['Marketing', 'Office Expansion', 'Technology ...   \n",
            "5  ['Working Capital', 'Research and Development'...   \n",
            "6  ['Research and Development', 'Staff Hiring', '...   \n",
            "7  ['Staff Hiring', 'Research and Development', '...   \n",
            "8  ['Research and Development', 'Technology Upgra...   \n",
            "9     ['Office Expansion', 'Marketing', 'Inventory']   \n",
            "\n",
            "                                    fund_amount_list  \n",
            "0  [1960083.0, 2869548.0, 6704724.0, 1133436.0, 1...  \n",
            "1                 [1181538.0, 3015399.0, 32087444.0]  \n",
            "2  [2218360.0, 2258527.0, 850818.0, 4951559.0, 67...  \n",
            "3  [539409.0, 524381.0, 1304627.0, 1236943.0, 103...  \n",
            "4                    [813855.0, 500000.0, 4173743.0]  \n",
            "5       [943387.0, 1335149.0, 7848622.0, 23982265.0]  \n",
            "6  [706109.0, 13957536.0, 1850061.0, 5365534.0, 3...  \n",
            "7  [3961311.0, 1237895.0, 1158492.0, 2331956.0, 2...  \n",
            "8  [500000.0, 500000.0, 500000.0, 500000.0, -7111...  \n",
            "9                 [3598109.0, 1453229.0, 30980352.0]  \n",
            "\n",
            "💾 Saved as 'loan_details_with_fund_groups.csv'\n"
          ]
        }
      ]
    },
    {
      "cell_type": "code",
      "source": [
        "# Step 1: Load your merged dataset\n",
        "df = pd.read_csv(\"loan_details_with_fund_groups.csv\")\n",
        "\n",
        "# Step 2: Drop unwanted columns if they exist\n",
        "cols_to_drop = [\n",
        "    \"fund_use_1\", \"fund_use_2\", \"fund_use_3\",\n",
        "    \"fund_use_4\", \"fund_use_5\", \"fund_use_6\",\n",
        "    \"fund_use_7\", \"fund_use_list_y\"\n",
        "]\n",
        "existing_cols = [c for c in cols_to_drop if c in df.columns]\n",
        "df.drop(columns=existing_cols, inplace=True)\n",
        "print(f\"🗑️ Dropped columns: {existing_cols}\")\n",
        "\n",
        "# Step 3: Rename fund_use_list_x → fund_use_list (if it exists)\n",
        "if \"fund_use_list_x\" in df.columns:\n",
        "    df.rename(columns={\"fund_use_list_x\": \"fund_use_list\"}, inplace=True)\n",
        "    print(\"✏️ Renamed column: fund_use_list_x → fund_use_list\")\n",
        "\n",
        "# Step 4: Preview the cleaned result\n",
        "print(\"\\n✅ Cleaned DataFrame preview:\")\n",
        "print(df.head(10))\n",
        "\n",
        "# Step 5 (Optional): Save final cleaned file\n",
        "df.to_csv(\"loan_details_final_ready.csv\", index=False)\n",
        "print(\"\\n💾 Saved cleaned dataset as 'loan_details_final_ready.csv'\")\n"
      ],
      "metadata": {
        "colab": {
          "base_uri": "https://localhost:8080/"
        },
        "id": "tXcKAhEJUw4y",
        "outputId": "23c4f23c-c5c3-4cce-ef31-324e373687e9"
      },
      "execution_count": null,
      "outputs": [
        {
          "output_type": "stream",
          "name": "stdout",
          "text": [
            "🗑️ Dropped columns: ['fund_use_1', 'fund_use_2', 'fund_use_3', 'fund_use_4', 'fund_use_5', 'fund_use_6', 'fund_use_7', 'fund_use_list_y']\n",
            "✏️ Renamed column: fund_use_list_x → fund_use_list\n",
            "\n",
            "✅ Cleaned DataFrame preview:\n",
            "                             inquiry_id  equity_injection  \\\n",
            "0  4c534a15-b817-43d6-bc8c-38bf8a22c530          15072901   \n",
            "1  9db9ac13-2075-44b7-b0db-376a3c43a5f2           4598676   \n",
            "2  b795682e-d22f-4f81-ae08-d465d2b3e647          13469521   \n",
            "3  6d31141e-a3ef-4067-a672-535d8d32466d           2449088   \n",
            "4  ee406cbf-a250-4b75-85af-2e684fb8409a           1118094   \n",
            "5  06ce7d90-bb7e-498f-baf6-b6114984b6a4           8604774   \n",
            "6  8259c7ac-cc7d-42a0-b5ed-c3170439775d          19588928   \n",
            "7  99748d53-44b4-46fb-a121-d1c222bd5a9e           3255191   \n",
            "8  2c084d96-eeba-404e-bdbd-0dc7aeaaaf5a            187469   \n",
            "9  f4a1ddb1-29c2-4d19-8f5f-628a4e0b56ed           6607387   \n",
            "\n",
            "   business_purchase_price  is_providing_collateral  \\\n",
            "0                      0.0                        0   \n",
            "1                5759660.0                        0   \n",
            "2                      0.0                        0   \n",
            "3                3170747.0                        0   \n",
            "4                      0.0                        0   \n",
            "5                      0.0                        1   \n",
            "6                      0.0                        1   \n",
            "7                      0.0                        0   \n",
            "8                      0.0                        1   \n",
            "9                      0.0                        0   \n",
            "\n",
            "   is_interested_in_refinancing_existing_debt  total_fund_amount  \\\n",
            "0                                           0         66322923.0   \n",
            "1                                           0         36284381.0   \n",
            "2                                           1         77739988.0   \n",
            "3                                           1         11737217.0   \n",
            "4                                           0          5487598.0   \n",
            "5                                           1         34109423.0   \n",
            "6                                           1         71219536.0   \n",
            "7                                           0         30187719.0   \n",
            "8                                           1          1288870.0   \n",
            "9                                           0         36031690.0   \n",
            "\n",
            "   fund_use_count                                      fund_use_list  \\\n",
            "0               7  ['Research and Development', 'Office Expansion...   \n",
            "1               3  ['Research and Development', 'Office Expansion...   \n",
            "2               5  ['Research and Development', 'Inventory', 'Tec...   \n",
            "3               7  ['Working Capital', 'Research and Development'...   \n",
            "4               3  ['Marketing', 'Office Expansion', 'Technology ...   \n",
            "5               4  ['Working Capital', 'Research and Development'...   \n",
            "6               6  ['Research and Development', 'Staff Hiring', '...   \n",
            "7               5  ['Staff Hiring', 'Research and Development', '...   \n",
            "8               5  ['Research and Development', 'Technology Upgra...   \n",
            "9               3     ['Office Expansion', 'Marketing', 'Inventory']   \n",
            "\n",
            "                                    fund_amount_list  \n",
            "0  [1960083.0, 2869548.0, 6704724.0, 1133436.0, 1...  \n",
            "1                 [1181538.0, 3015399.0, 32087444.0]  \n",
            "2  [2218360.0, 2258527.0, 850818.0, 4951559.0, 67...  \n",
            "3  [539409.0, 524381.0, 1304627.0, 1236943.0, 103...  \n",
            "4                    [813855.0, 500000.0, 4173743.0]  \n",
            "5       [943387.0, 1335149.0, 7848622.0, 23982265.0]  \n",
            "6  [706109.0, 13957536.0, 1850061.0, 5365534.0, 3...  \n",
            "7  [3961311.0, 1237895.0, 1158492.0, 2331956.0, 2...  \n",
            "8  [500000.0, 500000.0, 500000.0, 500000.0, -7111...  \n",
            "9                 [3598109.0, 1453229.0, 30980352.0]  \n",
            "\n",
            "💾 Saved cleaned dataset as 'loan_details_final_ready.csv'\n"
          ]
        }
      ]
    },
    {
      "cell_type": "markdown",
      "source": [
        "**VISUALIZATIONS**"
      ],
      "metadata": {
        "id": "wThVvbRaX2sC"
      }
    },
    {
      "cell_type": "markdown",
      "source": [
        "**Distribution of Total Fund Amounts**\n",
        "\n",
        "Description:\n",
        "Shows how SBA loan/fund sizes are distributed.\n",
        "Helps identify the most common loan size ranges and detect outliers."
      ],
      "metadata": {
        "id": "YTiu83NbZIC7"
      }
    },
    {
      "cell_type": "code",
      "source": [
        "import pandas as pd\n",
        "import matplotlib.pyplot as plt\n",
        "import seaborn as sns\n",
        "\n",
        "loan_df = pd.read_csv(\"loan_details_preprocessed.csv\")\n",
        "\n",
        "plt.figure(figsize=(8,5))\n",
        "sns.histplot(loan_df['total_fund_amount'], bins=30, kde=True, color='teal')\n",
        "plt.title(\"Distribution of Total Fund Amounts\")\n",
        "plt.xlabel(\"Total Fund Amount ($)\")\n",
        "plt.ylabel(\"Number of Loans\")\n",
        "plt.tight_layout()\n",
        "plt.show()"
      ],
      "metadata": {
        "colab": {
          "base_uri": "https://localhost:8080/",
          "height": 507
        },
        "id": "pwTk1LiDU5FG",
        "outputId": "321a9c8f-06f6-462c-8531-1f75209053b0"
      },
      "execution_count": null,
      "outputs": [
        {
          "output_type": "display_data",
          "data": {
            "text/plain": [
              "<Figure size 800x500 with 1 Axes>"
            ],
            "image/png": "[encoded data removed]"
          },
          "metadata": {}
        }
      ]
    },
    {
      "cell_type": "markdown",
      "source": [
        "The majority of loans are in the moderate range and linked to smaller business purchase values. This shows that SBA programs are effectively supporting small enterprises rather than large corporations."
      ],
      "metadata": {
        "id": "3ri709i0tQtU"
      }
    },
    {
      "cell_type": "markdown",
      "source": [
        "**Equity Injection vs Total Fund Amount**\n",
        "\n",
        "Description:\n",
        "Shows the relationship between borrower investment and loan funding.\n",
        "Reveals whether higher equity injection leads to higher approved loan amounts."
      ],
      "metadata": {
        "id": "m53oQBnaZLgo"
      }
    },
    {
      "cell_type": "code",
      "source": [
        "plt.figure(figsize=(8,6))\n",
        "sns.regplot(\n",
        "    data=loan_df,\n",
        "    x='equity_injection',\n",
        "    y='total_fund_amount',\n",
        "    scatter_kws={'alpha':0.6, 'color':'dodgerblue'},\n",
        "    line_kws={'color':'red'}\n",
        ")\n",
        "plt.title(\"Equity Injection vs Total Fund Amount\")\n",
        "plt.xlabel(\"Equity Injection ($)\")\n",
        "plt.ylabel(\"Total Fund Amount ($)\")\n",
        "plt.tight_layout()\n",
        "plt.show()"
      ],
      "metadata": {
        "colab": {
          "base_uri": "https://localhost:8080/",
          "height": 607
        },
        "id": "Hkd-rt1vYoVw",
        "outputId": "a9471f81-6a30-4a3f-8c6a-ac716d63e54e"
      },
      "execution_count": null,
      "outputs": [
        {
          "output_type": "display_data",
          "data": {
            "text/plain": [
              "<Figure size 800x600 with 1 Axes>"
            ],
            "image/png": "[encoded data removed]"
          },
          "metadata": {}
        }
      ]
    },
    {
      "cell_type": "markdown",
      "source": [
        "A clear positive linear trend emerges — as borrower equity increases, total fund amounts also rise.\n",
        "This reflects lenders’ confidence: higher borrower investment likely results in larger approved loans, emphasizing shared risk and financial stability. Businesses investing their own money tend to get higher funding. When owners put in more equity, lenders are more confident — and as a result, the total loan amount they receive is often larger. It reflects mutual trust and commitment between the borrower and lender."
      ],
      "metadata": {
        "id": "SLFYP3aCt4EJ"
      }
    },
    {
      "cell_type": "markdown",
      "source": [
        "**Collateral Impact on Loan Amount**\n",
        "\n",
        "Description:\n",
        "Compares loan sizes for loans with and without collateral.\n",
        "Shows if secured loans tend to have higher funding amounts."
      ],
      "metadata": {
        "id": "U-gxaHoUZY5r"
      }
    },
    {
      "cell_type": "code",
      "source": [
        "plt.figure(figsize=(6,5))\n",
        "sns.boxplot(data=loan_df, x='is_providing_collateral', y='total_fund_amount', palette='Set2')\n",
        "plt.title(\"Collateral Impact on Loan Amount\")\n",
        "plt.xlabel(\"Is Providing Collateral (0 = No, 1 = Yes)\")\n",
        "plt.ylabel(\"Total Fund Amount ($)\")\n",
        "plt.tight_layout()\n",
        "plt.show()"
      ],
      "metadata": {
        "colab": {
          "base_uri": "https://localhost:8080/",
          "height": 616
        },
        "id": "VCfzaWWCZSj8",
        "outputId": "bef75669-37ef-4e22-e061-8af3e818b4f8"
      },
      "execution_count": null,
      "outputs": [
        {
          "output_type": "stream",
          "name": "stderr",
          "text": [
            "/tmp/ipython-input-3419102514.py:2: FutureWarning: \n",
            "\n",
            "Passing `palette` without assigning `hue` is deprecated and will be removed in v0.14.0. Assign the `x` variable to `hue` and set `legend=False` for the same effect.\n",
            "\n",
            "  sns.boxplot(data=loan_df, x='is_providing_collateral', y='total_fund_amount', palette='Set2')\n"
          ]
        },
        {
          "output_type": "display_data",
          "data": {
            "text/plain": [
              "<Figure size 600x500 with 1 Axes>"
            ],
            "image/png": "[encoded data removed]"
          },
          "metadata": {}
        }
      ]
    },
    {
      "cell_type": "markdown",
      "source": [
        "Loans backed by collateral generally show slightly higher median fund amounts, but variation exists across both groups.\n",
        "This implies that while collateral adds assurance for lenders, it’s not the sole determinant of loan size — other factors like equity and business value matter too. Collateral helps, but isn’t everything.\n",
        "While providing collateral can slightly increase the loan size, it’s not the only factor. Lenders also value business potential and owner involvement."
      ],
      "metadata": {
        "id": "nBOuykpAuFXi"
      }
    },
    {
      "cell_type": "markdown",
      "source": [
        "**Distribution of Business Purchase Prices**\n",
        "\n",
        "Description:\n",
        "Shows variation in the business purchase prices among borrowers.\n",
        "Useful for understanding the financial scale of businesses applying for SBA loans."
      ],
      "metadata": {
        "id": "0zsQSJh_of6L"
      }
    },
    {
      "cell_type": "code",
      "source": [
        "plt.figure(figsize=(8,5))\n",
        "sns.histplot(loan_df['business_purchase_price'], bins=25, kde=True, color='purple')\n",
        "plt.title(\"Distribution of Business Purchase Prices\")\n",
        "plt.xlabel(\"Business Purchase Price ($)\")\n",
        "plt.ylabel(\"Number of Loans\")\n",
        "plt.tight_layout()\n",
        "plt.show()"
      ],
      "metadata": {
        "colab": {
          "base_uri": "https://localhost:8080/",
          "height": 507
        },
        "id": "PH7MTTNha4uK",
        "outputId": "bb9dc869-41e4-4c98-b289-6b06d8dd90b4"
      },
      "execution_count": null,
      "outputs": [
        {
          "output_type": "display_data",
          "data": {
            "text/plain": [
              "<Figure size 800x500 with 1 Axes>"
            ],
            "image/png": "[encoded data removed]"
          },
          "metadata": {}
        }
      ]
    },
    {
      "cell_type": "markdown",
      "source": [
        "The vast majority of businesses fall within the lower price range (under $2M), with a sharp drop beyond that.\n",
        "This heavy right-skew indicates most SBA loans are supporting small or mid-sized businesses, aligning with SBA’s core mission to empower SMEs."
      ],
      "metadata": {
        "id": "IQOTwrjruhKq"
      }
    },
    {
      "cell_type": "markdown",
      "source": [
        "**Correlation Heatmap**\n",
        "\n",
        "Description:\n",
        "Shows correlations between numeric fields like equity, purchase price, and total fund amount.\n",
        "Helps identify which financial factors move together."
      ],
      "metadata": {
        "id": "apZWZibJozPb"
      }
    },
    {
      "cell_type": "code",
      "source": [
        "plt.figure(figsize=(9,6))\n",
        "num_df = loan_df.select_dtypes(include=['float64','int64'])\n",
        "sns.heatmap(num_df.corr(), annot=True, cmap='coolwarm', fmt=\".2f\")\n",
        "plt.title(\"Correlation Heatmap of Loan Variables\")\n",
        "plt.tight_layout()\n",
        "plt.show()"
      ],
      "metadata": {
        "colab": {
          "base_uri": "https://localhost:8080/",
          "height": 607
        },
        "id": "NjYmGH-hbcq-",
        "outputId": "705f41f4-4576-4493-fb4f-7d48090ef92c"
      },
      "execution_count": null,
      "outputs": [
        {
          "output_type": "display_data",
          "data": {
            "text/plain": [
              "<Figure size 900x600 with 2 Axes>"
            ],
            "image/png": "[encoded data removed]"
          },
          "metadata": {}
        }
      ]
    },
    {
      "cell_type": "markdown",
      "source": [
        "The heatmap highlights a strong positive correlation (0.75) between equity injection and total fund amount.\n",
        "Meanwhile, business purchase price and fund use count show weaker relationships, suggesting that loan value is more tied to borrower contribution than deal size."
      ],
      "metadata": {
        "id": "NtSmgbiC7-XZ"
      }
    },
    {
      "cell_type": "markdown",
      "source": [
        "**Top 10 Most Common Fund Uses**\n",
        "\n",
        "Description:\n",
        "Displays which loan purposes are most common across all inquiries.\n",
        "Highlights the major business needs SBA loans are funding."
      ],
      "metadata": {
        "id": "SYJr3WNHo-zh"
      }
    },
    {
      "cell_type": "code",
      "source": [
        "fund_df = pd.read_csv(\"fund_uses_grouped.csv\")\n",
        "fund_df['fund_use_list'] = fund_df['fund_use_list'].apply(eval)\n",
        "all_funds = [x for sub in fund_df['fund_use_list'] for x in sub]\n",
        "from collections import Counter\n",
        "fund_counts = Counter(all_funds)\n",
        "top10 = pd.DataFrame(fund_counts.most_common(10), columns=['Fund Use', 'Count'])\n",
        "\n",
        "plt.figure(figsize=(10,6))\n",
        "sns.barplot(data=top10, x='Count', y='Fund Use', palette='viridis')\n",
        "plt.title(\"Top 10 Most Common Fund Uses\")\n",
        "plt.xlabel(\"Number of Loans\")\n",
        "plt.ylabel(\"Fund Use Category\")\n",
        "plt.tight_layout()\n",
        "plt.show()"
      ],
      "metadata": {
        "colab": {
          "base_uri": "https://localhost:8080/",
          "height": 716
        },
        "id": "xk0lORzDgWBR",
        "outputId": "325931bd-5924-40d2-92b3-eda2d30f53ec"
      },
      "execution_count": null,
      "outputs": [
        {
          "output_type": "stream",
          "name": "stderr",
          "text": [
            "/tmp/ipython-input-2618957028.py:9: FutureWarning: \n",
            "\n",
            "Passing `palette` without assigning `hue` is deprecated and will be removed in v0.14.0. Assign the `y` variable to `hue` and set `legend=False` for the same effect.\n",
            "\n",
            "  sns.barplot(data=top10, x='Count', y='Fund Use', palette='viridis')\n"
          ]
        },
        {
          "output_type": "display_data",
          "data": {
            "text/plain": [
              "<Figure size 1000x600 with 1 Axes>"
            ],
            "image/png": "[encoded data removed]"
          },
          "metadata": {}
        }
      ]
    },
    {
      "cell_type": "markdown",
      "source": [
        "Office Expansion, Equipment Purchase, and Staff Hiring dominate the top fund uses.\n",
        "This suggests SBA-backed loans are primarily geared toward business growth, modernization, and capacity building — not just maintenance."
      ],
      "metadata": {
        "id": "Vuu9o0nE8Cqu"
      }
    },
    {
      "cell_type": "markdown",
      "source": [
        "**Total Fund Amount by Category**\n",
        "\n",
        "Description:\n",
        "Aggregates total disbursed amount for each fund category.\n",
        "Reveals which purposes get the most financial allocation."
      ],
      "metadata": {
        "id": "NP5cuqMXpXqu"
      }
    },
    {
      "cell_type": "code",
      "source": [
        "fund_df['fund_amount_list'] = fund_df['fund_amount_list'].apply(eval)\n",
        "exploded = fund_df.explode(['fund_use_list', 'fund_amount_list'])\n",
        "category_sum = exploded.groupby('fund_use_list')['fund_amount_list'].sum().sort_values(ascending=False).head(10)\n",
        "\n",
        "plt.figure(figsize=(10,6))\n",
        "sns.barplot(x=category_sum.values, y=category_sum.index, palette='coolwarm')\n",
        "plt.title(\"Top 10 Fund Categories by Total Amount\")\n",
        "plt.xlabel(\"Total Fund Amount ($)\")\n",
        "plt.ylabel(\"Fund Category\")\n",
        "plt.tight_layout()\n",
        "plt.show()"
      ],
      "metadata": {
        "colab": {
          "base_uri": "https://localhost:8080/",
          "height": 716
        },
        "id": "ayWP9sfpga9-",
        "outputId": "14ab3b30-b5e4-401d-dde1-7ace48f81219"
      },
      "execution_count": null,
      "outputs": [
        {
          "output_type": "stream",
          "name": "stderr",
          "text": [
            "/tmp/ipython-input-877207668.py:6: FutureWarning: \n",
            "\n",
            "Passing `palette` without assigning `hue` is deprecated and will be removed in v0.14.0. Assign the `y` variable to `hue` and set `legend=False` for the same effect.\n",
            "\n",
            "  sns.barplot(x=category_sum.values, y=category_sum.index, palette='coolwarm')\n"
          ]
        },
        {
          "output_type": "display_data",
          "data": {
            "text/plain": [
              "<Figure size 1000x600 with 1 Axes>"
            ],
            "image/png": "[encoded data removed]"
          },
          "metadata": {}
        }
      ]
    },
    {
      "cell_type": "markdown",
      "source": [
        "While “Staff Hiring” tops by total funding, Marketing and Office Expansion also receive large portions of total loan disbursement.\n",
        "This indicates a strong focus on scaling workforce and market reach — crucial for post-loan growth impact."
      ],
      "metadata": {
        "id": "3uSfP9T3Kf0o"
      }
    },
    {
      "cell_type": "markdown",
      "source": [
        "**Fund Use Diversification (Number of Uses per Loan)**\n",
        "\n",
        "Description:\n",
        "Shows how diversified each loan is in terms of fund utilization.\n",
        "Indicates whether borrowers use SBA funds for multiple purposes."
      ],
      "metadata": {
        "id": "v8ha7BdHpit1"
      }
    },
    {
      "cell_type": "code",
      "source": [
        "fund_df['fund_count'] = fund_df['fund_use_list'].apply(len)\n",
        "plt.figure(figsize=(8,5))\n",
        "sns.histplot(fund_df['fund_count'], bins=10, kde=True, color='skyblue')\n",
        "plt.title(\"Distribution of Number of Fund Uses per Loan\")\n",
        "plt.xlabel(\"Number of Fund Uses\")\n",
        "plt.ylabel(\"Number of Loans\")\n",
        "plt.tight_layout()\n",
        "plt.show()"
      ],
      "metadata": {
        "colab": {
          "base_uri": "https://localhost:8080/",
          "height": 507
        },
        "id": "PL2OsbLPg4mo",
        "outputId": "5541ce50-08ed-4818-b614-168c6f02b735"
      },
      "execution_count": null,
      "outputs": [
        {
          "output_type": "display_data",
          "data": {
            "text/plain": [
              "<Figure size 800x500 with 1 Axes>"
            ],
            "image/png": "[encoded data removed]"
          },
          "metadata": {}
        }
      ]
    },
    {
      "cell_type": "markdown",
      "source": [
        "Most loans are diversified across 3–6 fund uses, showing a balanced utilization strategy.\n",
        "This diversity highlights that SBA loans are often multi-purpose — used simultaneously for expansion, equipment, and working capital."
      ],
      "metadata": {
        "id": "FRSHih_PK3_6"
      }
    },
    {
      "cell_type": "code",
      "source": [
        "import pandas as pd\n",
        "\n",
        "# Load datasets\n",
        "loan_original = pd.read_csv(\"loan_details.csv\")\n",
        "loan_cleaned = pd.read_csv(\"loan_details_preprocessed.csv\")\n",
        "fund_grouped = pd.read_csv(\"fund_uses_grouped.csv\")\n",
        "\n",
        "datasets = {\n",
        "    \"Original Loan Details\": loan_original,\n",
        "    \"Preprocessed Loan Details\": loan_cleaned,\n",
        "    \"Fund Uses Grouped\": fund_grouped\n",
        "}\n",
        "\n",
        "# Summary function\n",
        "def summarize(df, name):\n",
        "    print(f\"\\n {name}\")\n",
        "    print(f\"Rows: {df.shape[0]}, Columns: {df.shape[1]}\")\n",
        "    print(\"\\nColumn Data Types:\")\n",
        "    print(df.dtypes)\n",
        "    print(\"\\nMissing Values per Column:\")\n",
        "    print(df.isnull().sum())\n",
        "    print(\"-\" * 60)\n",
        "\n",
        "# Generate summaries\n",
        "for name, df in datasets.items():\n",
        "    summarize(df, name)"
      ],
      "metadata": {
        "id": "PUs4uQPIp25U",
        "colab": {
          "base_uri": "https://localhost:8080/"
        },
        "outputId": "bede4305-f9ef-4135-cd99-bf957882e974"
      },
      "execution_count": null,
      "outputs": [
        {
          "output_type": "stream",
          "name": "stdout",
          "text": [
            "\n",
            " Original Loan Details\n",
            "Rows: 100, Columns: 15\n",
            "\n",
            "Column Data Types:\n",
            "fund_uses                                      object\n",
            "inquiry_id                                     object\n",
            "user_id                                        object\n",
            "organization_id                                object\n",
            "id                                             object\n",
            "meta_status                                    object\n",
            "created_at                                     object\n",
            "updated_at                                    float64\n",
            "no_other_use_of_funds                          object\n",
            "equity_injection                                int64\n",
            "business_purchase_price                       float64\n",
            "is_providing_collateral                        object\n",
            "is_interested_in_refinancing_existing_debt     object\n",
            "type_of_acquisition                            object\n",
            "reason_for_acquisition                         object\n",
            "dtype: object\n",
            "\n",
            "Missing Values per Column:\n",
            "fund_uses                                       0\n",
            "inquiry_id                                      0\n",
            "user_id                                         0\n",
            "organization_id                                 0\n",
            "id                                              0\n",
            "meta_status                                     0\n",
            "created_at                                      0\n",
            "updated_at                                    100\n",
            "no_other_use_of_funds                           0\n",
            "equity_injection                                0\n",
            "business_purchase_price                        78\n",
            "is_providing_collateral                         0\n",
            "is_interested_in_refinancing_existing_debt      0\n",
            "type_of_acquisition                            78\n",
            "reason_for_acquisition                         78\n",
            "dtype: int64\n",
            "------------------------------------------------------------\n",
            "\n",
            " Preprocessed Loan Details\n",
            "Rows: 100, Columns: 9\n",
            "\n",
            "Column Data Types:\n",
            "inquiry_id                                     object\n",
            "equity_injection                                int64\n",
            "business_purchase_price                       float64\n",
            "is_providing_collateral                         int64\n",
            "is_interested_in_refinancing_existing_debt      int64\n",
            "total_fund_amount                             float64\n",
            "fund_use_count                                  int64\n",
            "fund_use_list                                  object\n",
            "fund_amount_list                               object\n",
            "dtype: object\n",
            "\n",
            "Missing Values per Column:\n",
            "inquiry_id                                    0\n",
            "equity_injection                              0\n",
            "business_purchase_price                       0\n",
            "is_providing_collateral                       0\n",
            "is_interested_in_refinancing_existing_debt    0\n",
            "total_fund_amount                             0\n",
            "fund_use_count                                0\n",
            "fund_use_list                                 0\n",
            "fund_amount_list                              0\n",
            "dtype: int64\n",
            "------------------------------------------------------------\n",
            "\n",
            " Fund Uses Grouped\n",
            "Rows: 100, Columns: 3\n",
            "\n",
            "Column Data Types:\n",
            "inquiry_id          object\n",
            "fund_use_list       object\n",
            "fund_amount_list    object\n",
            "dtype: object\n",
            "\n",
            "Missing Values per Column:\n",
            "inquiry_id          0\n",
            "fund_use_list       0\n",
            "fund_amount_list    0\n",
            "dtype: int64\n",
            "------------------------------------------------------------\n"
          ]
        }
      ]
    },
    {
      "cell_type": "code",
      "source": [],
      "metadata": {
        "id": "EQH0PoMZRu20"
      },
      "execution_count": null,
      "outputs": []
    },
    {
      "cell_type": "code",
      "source": [
        "!pip install googletrans"
      ],
      "metadata": {
        "colab": {
          "base_uri": "https://localhost:8080/"
        },
        "id": "LWn5QlF26_aq",
        "outputId": "b4191c8d-6ad3-4fbf-b85e-3a0e6a3f25f8"
      },
      "execution_count": 2,
      "outputs": [
        {
          "output_type": "stream",
          "name": "stdout",
          "text": [
            "Collecting googletrans\n",
            "  Downloading googletrans-4.0.2-py3-none-any.whl.metadata (10 kB)\n",
            "Requirement already satisfied: httpx>=0.27.2 in /usr/local/lib/python3.12/dist-packages (from httpx[http2]>=0.27.2->googletrans) (0.28.1)\n",
            "Requirement already satisfied: anyio in /usr/local/lib/python3.12/dist-packages (from httpx>=0.27.2->httpx[http2]>=0.27.2->googletrans) (4.11.0)\n",
            "Requirement already satisfied: certifi in /usr/local/lib/python3.12/dist-packages (from httpx>=0.27.2->httpx[http2]>=0.27.2->googletrans) (2025.10.5)\n",
            "Requirement already satisfied: httpcore==1.* in /usr/local/lib/python3.12/dist-packages (from httpx>=0.27.2->httpx[http2]>=0.27.2->googletrans) (1.0.9)\n",
            "Requirement already satisfied: idna in /usr/local/lib/python3.12/dist-packages (from httpx>=0.27.2->httpx[http2]>=0.27.2->googletrans) (3.11)\n",
            "Requirement already satisfied: h11>=0.16 in /usr/local/lib/python3.12/dist-packages (from httpcore==1.*->httpx>=0.27.2->httpx[http2]>=0.27.2->googletrans) (0.16.0)\n",
            "Requirement already satisfied: h2<5,>=3 in /usr/local/lib/python3.12/dist-packages (from httpx[http2]>=0.27.2->googletrans) (4.3.0)\n",
            "Requirement already satisfied: hyperframe<7,>=6.1 in /usr/local/lib/python3.12/dist-packages (from h2<5,>=3->httpx[http2]>=0.27.2->googletrans) (6.1.0)\n",
            "Requirement already satisfied: hpack<5,>=4.1 in /usr/local/lib/python3.12/dist-packages (from h2<5,>=3->httpx[http2]>=0.27.2->googletrans) (4.1.0)\n",
            "Requirement already satisfied: sniffio>=1.1 in /usr/local/lib/python3.12/dist-packages (from anyio->httpx>=0.27.2->httpx[http2]>=0.27.2->googletrans) (1.3.1)\n",
            "Requirement already satisfied: typing_extensions>=4.5 in /usr/local/lib/python3.12/dist-packages (from anyio->httpx>=0.27.2->httpx[http2]>=0.27.2->googletrans) (4.15.0)\n",
            "Downloading googletrans-4.0.2-py3-none-any.whl (18 kB)\n",
            "Installing collected packages: googletrans\n",
            "Successfully installed googletrans-4.0.2\n"
          ]
        }
      ]
    },
    {
      "cell_type": "markdown",
      "source": [
        "# **NEW FILES**"
      ],
      "metadata": {
        "id": "SKD98VnVLvQg"
      }
    },
    {
      "cell_type": "code",
      "source": [
        "import pandas as pd\n",
        "import ast\n",
        "\n",
        "# === STEP 1: Load file ===\n",
        "df = pd.read_csv(\"loan_details.csv\")\n",
        "\n",
        "# === STEP 2: Parse fund_uses JSON ===\n",
        "def parse_fund_uses(x):\n",
        "    if pd.isna(x) or not isinstance(x, str) or not x.strip().startswith(\"[\"):\n",
        "        return [], []\n",
        "    try:\n",
        "        data = ast.literal_eval(x)\n",
        "        uses, amounts = [], []\n",
        "        for item in data:\n",
        "            if isinstance(item, dict):\n",
        "                use = item.get(\"name\") or item.get(\"fund_use_type\") or item.get(\"type\") or item.get(\"use\")\n",
        "                amount = item.get(\"amount\") or item.get(\"fund_amount\") or 0\n",
        "                uses.append(use)\n",
        "                amounts.append(float(amount))\n",
        "        return [uses, amounts]\n",
        "    except Exception:\n",
        "        return [[], []]\n",
        "\n",
        "parsed_results = df[\"fund_uses\"].apply(parse_fund_uses)\n",
        "df[\"fund_use_list\"] = parsed_results.apply(lambda x: x[0])\n",
        "df[\"fund_amount_list\"] = parsed_results.apply(lambda x: x[1])\n",
        "\n",
        "print(\"✅ fund_use_list and fund_amount_list created successfully!\")\n",
        "\n",
        "# === STEP 3: Group fund uses ===\n",
        "fund_uses_grouped = (\n",
        "    df.groupby(\"inquiry_id\", as_index=False)\n",
        "      .agg({\n",
        "          \"fund_use_list\": lambda x: sum(x, []),\n",
        "          \"fund_amount_list\": lambda x: sum(x, [])\n",
        "      })\n",
        ")\n",
        "\n",
        "fund_uses_grouped[\"fund_use_count\"] = fund_uses_grouped[\"fund_use_list\"].apply(len)\n",
        "fund_uses_grouped[\"total_fund_amount\"] = fund_uses_grouped[\"fund_amount_list\"].apply(lambda x: sum(x) if x else 0)\n",
        "\n",
        "print(\"✅ fund_uses_grouped created successfully!\")\n",
        "\n",
        "# === STEP 4: Drop duplicate fund_use columns before merge ===\n",
        "df_clean = df.drop(columns=[\"fund_use_list\", \"fund_amount_list\"], errors=\"ignore\")\n",
        "\n",
        "# === STEP 5: Merge ===\n",
        "merged = (\n",
        "    df_clean.drop_duplicates(subset=[\"inquiry_id\"])\n",
        "    .merge(fund_uses_grouped, on=\"inquiry_id\", how=\"left\", validate=\"1:1\")\n",
        ")\n",
        "\n",
        "# === STEP 6: Clean booleans ===\n",
        "def bool_to_int(x):\n",
        "    return 1 if str(x).lower() in [\"t\", \"true\", \"1\"] else 0\n",
        "\n",
        "merged[\"is_providing_collateral\"] = merged[\"is_providing_collateral\"].apply(bool_to_int)\n",
        "merged[\"business_purchase_price\"] = merged[\"business_purchase_price\"].fillna(0.0)\n",
        "merged[\"equity_injection\"] = merged[\"equity_injection\"].fillna(0).astype(int)\n",
        "\n",
        "# === STEP 7: Refinancing flag ===\n",
        "def has_refinance(fund_uses):\n",
        "    if isinstance(fund_uses, list):\n",
        "        return int(any(\"refinance\" in str(u).lower() for u in fund_uses))\n",
        "    return 0\n",
        "\n",
        "# (Now we know the merged column exists)\n",
        "merged[\"is_interested_in_refinancing_existing_debt\"] = merged[\"fund_use_list\"].apply(has_refinance)\n",
        "\n",
        "# === STEP 8: Select final schema ===\n",
        "final_cols = [\n",
        "    \"inquiry_id\",\n",
        "    \"equity_injection\",\n",
        "    \"business_purchase_price\",\n",
        "    \"is_providing_collateral\",\n",
        "    \"is_interested_in_refinancing_existing_debt\",\n",
        "    \"total_fund_amount\",\n",
        "    \"fund_use_count\",\n",
        "    \"fund_use_list\",\n",
        "    \"fund_amount_list\"\n",
        "]\n",
        "\n",
        "loan_details_preprocessed = merged[final_cols]\n",
        "\n",
        "# === STEP 9: Save outputs ===\n",
        "fund_uses_grouped.to_csv(\"fund_uses_grouped.csv\", index=False)\n",
        "loan_details_preprocessed.to_csv(\"loan_details_preprocessed.csv\", index=False)\n",
        "\n",
        "print(\"\\n✅ Transformation complete!\")\n",
        "print(\"Generated files:\")\n",
        "print(\" - fund_uses_grouped.csv\")\n",
        "print(\" - loan_details_preprocessed.csv\")\n",
        "print(\"\\nSample of final preprocessed data:\")\n",
        "print(loan_details_preprocessed.head(3))"
      ],
      "metadata": {
        "colab": {
          "base_uri": "https://localhost:8080/"
        },
        "id": "jfdoZGiGHebU",
        "outputId": "9f895e76-d7e9-437c-e43c-be0f879423c5"
      },
      "execution_count": 18,
      "outputs": [
        {
          "output_type": "stream",
          "name": "stdout",
          "text": [
            "✅ fund_use_list and fund_amount_list created successfully!\n",
            "✅ fund_uses_grouped created successfully!\n",
            "\n",
            "✅ Transformation complete!\n",
            "Generated files:\n",
            " - fund_uses_grouped.csv\n",
            " - loan_details_preprocessed.csv\n",
            "\n",
            "Sample of final preprocessed data:\n",
            "                             inquiry_id  equity_injection  \\\n",
            "0  987cd4c4-130d-410c-a63d-406af4799a02           4126808   \n",
            "1  4003f4e9-3348-4c4a-a4a3-02b1db46441e          19373108   \n",
            "2  6da42ae5-917e-4e1e-b517-d908512bf970          23468320   \n",
            "\n",
            "   business_purchase_price  is_providing_collateral  \\\n",
            "0                      0.0                        1   \n",
            "1                      0.0                        1   \n",
            "2                      0.0                        0   \n",
            "\n",
            "   is_interested_in_refinancing_existing_debt  total_fund_amount  \\\n",
            "0                                           0         58364411.0   \n",
            "1                                           0         70164366.0   \n",
            "2                                           0         84978360.0   \n",
            "\n",
            "   fund_use_count                                      fund_use_list  \\\n",
            "0               3  [Research and Development, Staff Hiring, Offic...   \n",
            "1               5  [Technology Upgrade, Inventory, Office Expansi...   \n",
            "2               3        [Office Expansion, Staff Hiring, Inventory]   \n",
            "\n",
            "                                    fund_amount_list  \n",
            "0                 [1576143.0, 2021657.0, 54766611.0]  \n",
            "1  [2486762.0, 6582644.0, 649470.0, 8214161.0, 52...  \n",
            "2                 [5537753.0, 2767351.0, 76673256.0]  \n"
          ]
        }
      ]
    },
    {
      "cell_type": "code",
      "source": [],
      "metadata": {
        "id": "cYj1SFMuJgz7"
      },
      "execution_count": null,
      "outputs": []
    }
  ]
}